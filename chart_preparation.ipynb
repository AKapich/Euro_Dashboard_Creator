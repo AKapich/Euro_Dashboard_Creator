{
 "cells": [
  {
   "cell_type": "code",
   "execution_count": 23,
   "metadata": {},
   "outputs": [],
   "source": [
    "from statsbombpy import sb\n",
    "import pandas as pd\n",
    "pd.set_option('display.max_columns', 100)"
   ]
  },
  {
   "cell_type": "code",
   "execution_count": 13,
   "metadata": {},
   "outputs": [
    {
     "name": "stderr",
     "output_type": "stream",
     "text": [
      "C:\\Users\\Aleks\\AppData\\Roaming\\Python\\Python310\\site-packages\\statsbombpy\\api_client.py:21: NoAuthWarning: credentials were not supplied. open data access only\n",
      "  warnings.warn(\n"
     ]
    }
   ],
   "source": [
    "matches = sb.matches(competition_id=55, season_id=282)\n",
    "\n",
    "match_id = \t3938643\n",
    "team_team = 'France'\n",
    "away_team = 'Poland'"
   ]
  },
  {
   "cell_type": "code",
   "execution_count": 11,
   "metadata": {},
   "outputs": [
    {
     "name": "stderr",
     "output_type": "stream",
     "text": [
      "C:\\Users\\Aleks\\AppData\\Roaming\\Python\\Python310\\site-packages\\statsbombpy\\api_client.py:21: NoAuthWarning: credentials were not supplied. open data access only\n",
      "  warnings.warn(\n"
     ]
    }
   ],
   "source": [
    "events = sb.events(match_id=match_id)"
   ]
  },
  {
   "cell_type": "code",
   "execution_count": 77,
   "metadata": {},
   "outputs": [
    {
     "data": {
      "text/html": [
       "<div>\n",
       "<style scoped>\n",
       "    .dataframe tbody tr th:only-of-type {\n",
       "        vertical-align: middle;\n",
       "    }\n",
       "\n",
       "    .dataframe tbody tr th {\n",
       "        vertical-align: top;\n",
       "    }\n",
       "\n",
       "    .dataframe thead th {\n",
       "        text-align: right;\n",
       "    }\n",
       "</style>\n",
       "<table border=\"1\" class=\"dataframe\">\n",
       "  <thead>\n",
       "    <tr style=\"text-align: right;\">\n",
       "      <th></th>\n",
       "      <th>France</th>\n",
       "      <th>Stat</th>\n",
       "      <th>Poland</th>\n",
       "    </tr>\n",
       "  </thead>\n",
       "  <tbody>\n",
       "    <tr>\n",
       "      <th>0</th>\n",
       "      <td>1.89</td>\n",
       "      <td>xG</td>\n",
       "      <td>1.18</td>\n",
       "    </tr>\n",
       "    <tr>\n",
       "      <th>1</th>\n",
       "      <td>19</td>\n",
       "      <td>Shots</td>\n",
       "      <td>10</td>\n",
       "    </tr>\n",
       "    <tr>\n",
       "      <th>2</th>\n",
       "      <td>8</td>\n",
       "      <td>Shots on Target</td>\n",
       "      <td>3</td>\n",
       "    </tr>\n",
       "    <tr>\n",
       "      <th>3</th>\n",
       "      <td>0.1</td>\n",
       "      <td>xG per Shot</td>\n",
       "      <td>0.12</td>\n",
       "    </tr>\n",
       "  </tbody>\n",
       "</table>\n",
       "</div>"
      ],
      "text/plain": [
       "  France             Stat Poland\n",
       "0   1.89               xG   1.18\n",
       "1     19            Shots     10\n",
       "2      8  Shots on Target      3\n",
       "3    0.1      xG per Shot   0.12"
      ]
     },
     "execution_count": 77,
     "metadata": {},
     "output_type": "execute_result"
    }
   ],
   "source": [
    "def get_basic_data(team, events):\n",
    "    shots = events[(events['type'] == 'Shot') & (events['team'] == team)]\n",
    "    xg = round(shots['shot_statsbomb_xg'].sum(), 2)\n",
    "    shot_amt = (len(shots))\n",
    "    SoT = len(shots[~(shots['shot_outcome'].isin(['Blocked', 'Off T', 'Post', 'Wayward']))])\n",
    "    xg_per_shot = round(xg / shot_amt, 2)\n",
    "    return [xg, str(shot_amt), str(SoT), xg_per_shot]\n",
    "\n",
    "table_data = pd.DataFrame({\n",
    "    home_team: get_basic_data(home_team, events),\n",
    "    'Stat': ['xG', 'Shots', 'Shots on Target', 'xG per Shot'],\n",
    "    away_team: get_basic_data(away_team, events)\n",
    "})\n",
    "\n",
    "table_data"
   ]
  },
  {
   "cell_type": "code",
   "execution_count": 79,
   "metadata": {},
   "outputs": [
    {
     "name": "stderr",
     "output_type": "stream",
     "text": [
      "C:\\Users\\Aleks\\AppData\\Roaming\\Python\\Python310\\site-packages\\statsbombpy\\api_client.py:21: NoAuthWarning: credentials were not supplied. open data access only\n",
      "  warnings.warn(\n"
     ]
    }
   ],
   "source": [
    "from auxiliary import country_colors, annotation_fix_dict"
   ]
  },
  {
   "cell_type": "code",
   "execution_count": 102,
   "metadata": {},
   "outputs": [],
   "source": [
    "n_rows=4\n",
    "from mplsoccer import Pitch, VerticalPitch\n",
    "import matplotlib.pyplot as plt\n",
    "import matplotlib.gridspec as gridspec\n",
    "import matplotlib as mpl"
   ]
  },
  {
   "cell_type": "code",
   "execution_count": null,
   "metadata": {},
   "outputs": [],
   "source": [
    "def shotmap(match_id, team, ax, inverse=False):\n",
    "    events = sb.events(match_id=match_id)\n",
    "    shots = events[events[\"is_shot\"].notna()].query(f\"team=='{team}'\")\n",
    "\n",
    "    pitch = VerticalPitch(pitch_type='opta', pitch_color='#0e1117', line_color='#c7d5cc', half=True)\n",
    "    pitch.draw(ax=ax)\n",
    "\n",
    "    color = '#00adef' if hometeam else '#7e0000'\n",
    "\n",
    "    for _, row in shots.iterrows():\n",
    "        plt.scatter(row[\"y\"], row[\"x\"],\n",
    "                color=color, # TODO\n",
    "                edgecolors='black',\n",
    "                marker=outcome_dict[row[\"type\"]],\n",
    "                s=size_dict[row[\"type\"]]\n",
    "        )"
   ]
  }
 ],
 "metadata": {
  "kernelspec": {
   "display_name": "Python 3",
   "language": "python",
   "name": "python3"
  },
  "language_info": {
   "codemirror_mode": {
    "name": "ipython",
    "version": 3
   },
   "file_extension": ".py",
   "mimetype": "text/x-python",
   "name": "python",
   "nbconvert_exporter": "python",
   "pygments_lexer": "ipython3",
   "version": "3.10.7"
  }
 },
 "nbformat": 4,
 "nbformat_minor": 2
}
