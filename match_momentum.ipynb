{
 "cells": [
  {
   "cell_type": "markdown",
   "metadata": {},
   "source": [
    "* We look at the maximum possession value for each team in every minute of the game so far (capped between zero and 0.1). <br>\n",
    "* The threat of each team is then a combination of these values, weighted for how recently they occurred, with the most recent minutes having more influence on the final value. Only the most recent three to four minutes have significant impact here. <br>\n",
    "* The momentum for a given minute then takes the difference between these values for each team to see who was more dominant. <br>"
   ]
  },
  {
   "cell_type": "markdown",
   "metadata": {},
   "source": [
    "xT grid created by Jernej Fllsar at Twelve."
   ]
  },
  {
   "cell_type": "code",
   "execution_count": 65,
   "metadata": {},
   "outputs": [],
   "source": [
    "import soccerdata as sd\n",
    "import numpy as np\n",
    "import matplotlib.pyplot as plt\n",
    "import pandas as pd\n",
    "pd.set_option('display.max_columns', 500)\n",
    "import warnings\n",
    "warnings.filterwarnings('ignore')"
   ]
  },
  {
   "cell_type": "code",
   "execution_count": 5,
   "metadata": {},
   "outputs": [
    {
     "data": {
      "text/html": [
       "<pre style=\"white-space:pre;overflow-x:auto;line-height:normal;font-family:Menlo,'DejaVu Sans Mono',consolas,'Courier New',monospace\"><span style=\"color: #7fbfbf; text-decoration-color: #7fbfbf\">[07/31/24 22:06:32] </span><span style=\"color: #000080; text-decoration-color: #000080\">INFO    </span> Saving cached data to C:\\Users\\Aleks\\soccerdata\\data\\WhoScored          <a href=\"file://C:\\Users\\Aleks\\AppData\\Roaming\\Python\\Python310\\site-packages\\soccerdata\\_common.py\" target=\"_blank\"><span style=\"color: #7f7f7f; text-decoration-color: #7f7f7f\">_common.py</span></a><span style=\"color: #7f7f7f; text-decoration-color: #7f7f7f\">:</span><a href=\"file://C:\\Users\\Aleks\\AppData\\Roaming\\Python\\Python310\\site-packages\\soccerdata\\_common.py#263\" target=\"_blank\"><span style=\"color: #7f7f7f; text-decoration-color: #7f7f7f\">263</span></a>\n",
       "</pre>\n"
      ],
      "text/plain": [
       "\u001b[2;36m[07/31/24 22:06:32]\u001b[0m\u001b[2;36m \u001b[0m\u001b[34mINFO    \u001b[0m Saving cached data to C:\\Users\\Aleks\\soccerdata\\data\\WhoScored          \u001b]8;id=283254;file://C:\\Users\\Aleks\\AppData\\Roaming\\Python\\Python310\\site-packages\\soccerdata\\_common.py\u001b\\\u001b[2m_common.py\u001b[0m\u001b]8;;\u001b\\\u001b[2m:\u001b[0m\u001b]8;id=895207;file://C:\\Users\\Aleks\\AppData\\Roaming\\Python\\Python310\\site-packages\\soccerdata\\_common.py#263\u001b\\\u001b[2m263\u001b[0m\u001b]8;;\u001b\\\n"
      ]
     },
     "metadata": {},
     "output_type": "display_data"
    },
    {
     "data": {
      "text/html": [
       "<pre style=\"white-space:pre;overflow-x:auto;line-height:normal;font-family:Menlo,'DejaVu Sans Mono',consolas,'Courier New',monospace\"><span style=\"color: #7fbfbf; text-decoration-color: #7fbfbf\">[07/31/24 22:06:34] </span><span style=\"color: #000080; text-decoration-color: #000080\">INFO    </span> patching driver executable                                              <a href=\"file://C:\\Users\\Aleks\\AppData\\Roaming\\Python\\Python310\\site-packages\\undetected_chromedriver\\patcher.py\" target=\"_blank\"><span style=\"color: #7f7f7f; text-decoration-color: #7f7f7f\">patcher.py</span></a><span style=\"color: #7f7f7f; text-decoration-color: #7f7f7f\">:</span><a href=\"file://C:\\Users\\Aleks\\AppData\\Roaming\\Python\\Python310\\site-packages\\undetected_chromedriver\\patcher.py#346\" target=\"_blank\"><span style=\"color: #7f7f7f; text-decoration-color: #7f7f7f\">346</span></a>\n",
       "<span style=\"color: #7fbfbf; text-decoration-color: #7fbfbf\">                    </span>         C:\\Users\\Aleks\\appdata\\roaming\\undetected_chromedriver\\undetected_chrom <span style=\"color: #7f7f7f; text-decoration-color: #7f7f7f\">              </span>\n",
       "<span style=\"color: #7fbfbf; text-decoration-color: #7fbfbf\">                    </span>         edriver.exe                                                             <span style=\"color: #7f7f7f; text-decoration-color: #7f7f7f\">              </span>\n",
       "</pre>\n"
      ],
      "text/plain": [
       "\u001b[2;36m[07/31/24 22:06:34]\u001b[0m\u001b[2;36m \u001b[0m\u001b[34mINFO    \u001b[0m patching driver executable                                              \u001b]8;id=911798;file://C:\\Users\\Aleks\\AppData\\Roaming\\Python\\Python310\\site-packages\\undetected_chromedriver\\patcher.py\u001b\\\u001b[2mpatcher.py\u001b[0m\u001b]8;;\u001b\\\u001b[2m:\u001b[0m\u001b]8;id=237596;file://C:\\Users\\Aleks\\AppData\\Roaming\\Python\\Python310\\site-packages\\undetected_chromedriver\\patcher.py#346\u001b\\\u001b[2m346\u001b[0m\u001b]8;;\u001b\\\n",
       "\u001b[2;36m                    \u001b[0m         C:\\Users\\Aleks\\appdata\\roaming\\undetected_chromedriver\\undetected_chrom \u001b[2m              \u001b[0m\n",
       "\u001b[2;36m                    \u001b[0m         edriver.exe                                                             \u001b[2m              \u001b[0m\n"
      ]
     },
     "metadata": {},
     "output_type": "display_data"
    }
   ],
   "source": [
    "ws = sd.WhoScored(leagues=\"ENG-Premier League\", seasons='2022/2023')"
   ]
  },
  {
   "cell_type": "code",
   "execution_count": 6,
   "metadata": {},
   "outputs": [
    {
     "data": {
      "text/html": [
       "<pre style=\"white-space:pre;overflow-x:auto;line-height:normal;font-family:Menlo,'DejaVu Sans Mono',consolas,'Courier New',monospace\"><span style=\"color: #7fbfbf; text-decoration-color: #7fbfbf\">[07/31/24 22:07:23] </span><span style=\"color: #000080; text-decoration-color: #000080\">INFO    </span> Retrieving calendar for ENG-Premier League <span style=\"color: #008080; text-decoration-color: #008080; font-weight: bold\">2223</span>                       <a href=\"file://C:\\Users\\Aleks\\AppData\\Roaming\\Python\\Python310\\site-packages\\soccerdata\\whoscored.py\" target=\"_blank\"><span style=\"color: #7f7f7f; text-decoration-color: #7f7f7f\">whoscored.py</span></a><span style=\"color: #7f7f7f; text-decoration-color: #7f7f7f\">:</span><a href=\"file://C:\\Users\\Aleks\\AppData\\Roaming\\Python\\Python310\\site-packages\\soccerdata\\whoscored.py#371\" target=\"_blank\"><span style=\"color: #7f7f7f; text-decoration-color: #7f7f7f\">371</span></a>\n",
       "</pre>\n"
      ],
      "text/plain": [
       "\u001b[2;36m[07/31/24 22:07:23]\u001b[0m\u001b[2;36m \u001b[0m\u001b[34mINFO    \u001b[0m Retrieving calendar for ENG-Premier League \u001b[1;36m2223\u001b[0m                       \u001b]8;id=968245;file://C:\\Users\\Aleks\\AppData\\Roaming\\Python\\Python310\\site-packages\\soccerdata\\whoscored.py\u001b\\\u001b[2mwhoscored.py\u001b[0m\u001b]8;;\u001b\\\u001b[2m:\u001b[0m\u001b]8;id=849578;file://C:\\Users\\Aleks\\AppData\\Roaming\\Python\\Python310\\site-packages\\soccerdata\\whoscored.py#371\u001b\\\u001b[2m371\u001b[0m\u001b]8;;\u001b\\\n"
      ]
     },
     "metadata": {},
     "output_type": "display_data"
    },
    {
     "data": {
      "text/html": [
       "<pre style=\"white-space:pre;overflow-x:auto;line-height:normal;font-family:Menlo,'DejaVu Sans Mono',consolas,'Courier New',monospace\"><span style=\"color: #7fbfbf; text-decoration-color: #7fbfbf\">[07/31/24 22:07:31] </span><span style=\"color: #000080; text-decoration-color: #000080\">INFO    </span> <span style=\"font-weight: bold\">[</span><span style=\"color: #008080; text-decoration-color: #008080; font-weight: bold\">1</span>/<span style=\"color: #008080; text-decoration-color: #008080; font-weight: bold\">10</span><span style=\"font-weight: bold\">]</span> Retrieving fixtures for ENG-Premier League <span style=\"color: #008080; text-decoration-color: #008080; font-weight: bold\">2223</span>                <a href=\"file://C:\\Users\\Aleks\\AppData\\Roaming\\Python\\Python310\\site-packages\\soccerdata\\whoscored.py\" target=\"_blank\"><span style=\"color: #7f7f7f; text-decoration-color: #7f7f7f\">whoscored.py</span></a><span style=\"color: #7f7f7f; text-decoration-color: #7f7f7f\">:</span><a href=\"file://C:\\Users\\Aleks\\AppData\\Roaming\\Python\\Python310\\site-packages\\soccerdata\\whoscored.py#400\" target=\"_blank\"><span style=\"color: #7f7f7f; text-decoration-color: #7f7f7f\">400</span></a>\n",
       "</pre>\n"
      ],
      "text/plain": [
       "\u001b[2;36m[07/31/24 22:07:31]\u001b[0m\u001b[2;36m \u001b[0m\u001b[34mINFO    \u001b[0m \u001b[1m[\u001b[0m\u001b[1;36m1\u001b[0m/\u001b[1;36m10\u001b[0m\u001b[1m]\u001b[0m Retrieving fixtures for ENG-Premier League \u001b[1;36m2223\u001b[0m                \u001b]8;id=757594;file://C:\\Users\\Aleks\\AppData\\Roaming\\Python\\Python310\\site-packages\\soccerdata\\whoscored.py\u001b\\\u001b[2mwhoscored.py\u001b[0m\u001b]8;;\u001b\\\u001b[2m:\u001b[0m\u001b]8;id=146213;file://C:\\Users\\Aleks\\AppData\\Roaming\\Python\\Python310\\site-packages\\soccerdata\\whoscored.py#400\u001b\\\u001b[2m400\u001b[0m\u001b]8;;\u001b\\\n"
      ]
     },
     "metadata": {},
     "output_type": "display_data"
    },
    {
     "data": {
      "text/html": [
       "<pre style=\"white-space:pre;overflow-x:auto;line-height:normal;font-family:Menlo,'DejaVu Sans Mono',consolas,'Courier New',monospace\"><span style=\"color: #7fbfbf; text-decoration-color: #7fbfbf\">[07/31/24 22:07:38] </span><span style=\"color: #000080; text-decoration-color: #000080\">INFO    </span> <span style=\"font-weight: bold\">[</span><span style=\"color: #008080; text-decoration-color: #008080; font-weight: bold\">2</span>/<span style=\"color: #008080; text-decoration-color: #008080; font-weight: bold\">10</span><span style=\"font-weight: bold\">]</span> Retrieving fixtures for ENG-Premier League <span style=\"color: #008080; text-decoration-color: #008080; font-weight: bold\">2223</span>                <a href=\"file://C:\\Users\\Aleks\\AppData\\Roaming\\Python\\Python310\\site-packages\\soccerdata\\whoscored.py\" target=\"_blank\"><span style=\"color: #7f7f7f; text-decoration-color: #7f7f7f\">whoscored.py</span></a><span style=\"color: #7f7f7f; text-decoration-color: #7f7f7f\">:</span><a href=\"file://C:\\Users\\Aleks\\AppData\\Roaming\\Python\\Python310\\site-packages\\soccerdata\\whoscored.py#400\" target=\"_blank\"><span style=\"color: #7f7f7f; text-decoration-color: #7f7f7f\">400</span></a>\n",
       "</pre>\n"
      ],
      "text/plain": [
       "\u001b[2;36m[07/31/24 22:07:38]\u001b[0m\u001b[2;36m \u001b[0m\u001b[34mINFO    \u001b[0m \u001b[1m[\u001b[0m\u001b[1;36m2\u001b[0m/\u001b[1;36m10\u001b[0m\u001b[1m]\u001b[0m Retrieving fixtures for ENG-Premier League \u001b[1;36m2223\u001b[0m                \u001b]8;id=671128;file://C:\\Users\\Aleks\\AppData\\Roaming\\Python\\Python310\\site-packages\\soccerdata\\whoscored.py\u001b\\\u001b[2mwhoscored.py\u001b[0m\u001b]8;;\u001b\\\u001b[2m:\u001b[0m\u001b]8;id=282603;file://C:\\Users\\Aleks\\AppData\\Roaming\\Python\\Python310\\site-packages\\soccerdata\\whoscored.py#400\u001b\\\u001b[2m400\u001b[0m\u001b]8;;\u001b\\\n"
      ]
     },
     "metadata": {},
     "output_type": "display_data"
    },
    {
     "data": {
      "text/html": [
       "<pre style=\"white-space:pre;overflow-x:auto;line-height:normal;font-family:Menlo,'DejaVu Sans Mono',consolas,'Courier New',monospace\"><span style=\"color: #7fbfbf; text-decoration-color: #7fbfbf\">[07/31/24 22:07:47] </span><span style=\"color: #000080; text-decoration-color: #000080\">INFO    </span> <span style=\"font-weight: bold\">[</span><span style=\"color: #008080; text-decoration-color: #008080; font-weight: bold\">3</span>/<span style=\"color: #008080; text-decoration-color: #008080; font-weight: bold\">10</span><span style=\"font-weight: bold\">]</span> Retrieving fixtures for ENG-Premier League <span style=\"color: #008080; text-decoration-color: #008080; font-weight: bold\">2223</span>                <a href=\"file://C:\\Users\\Aleks\\AppData\\Roaming\\Python\\Python310\\site-packages\\soccerdata\\whoscored.py\" target=\"_blank\"><span style=\"color: #7f7f7f; text-decoration-color: #7f7f7f\">whoscored.py</span></a><span style=\"color: #7f7f7f; text-decoration-color: #7f7f7f\">:</span><a href=\"file://C:\\Users\\Aleks\\AppData\\Roaming\\Python\\Python310\\site-packages\\soccerdata\\whoscored.py#400\" target=\"_blank\"><span style=\"color: #7f7f7f; text-decoration-color: #7f7f7f\">400</span></a>\n",
       "</pre>\n"
      ],
      "text/plain": [
       "\u001b[2;36m[07/31/24 22:07:47]\u001b[0m\u001b[2;36m \u001b[0m\u001b[34mINFO    \u001b[0m \u001b[1m[\u001b[0m\u001b[1;36m3\u001b[0m/\u001b[1;36m10\u001b[0m\u001b[1m]\u001b[0m Retrieving fixtures for ENG-Premier League \u001b[1;36m2223\u001b[0m                \u001b]8;id=117083;file://C:\\Users\\Aleks\\AppData\\Roaming\\Python\\Python310\\site-packages\\soccerdata\\whoscored.py\u001b\\\u001b[2mwhoscored.py\u001b[0m\u001b]8;;\u001b\\\u001b[2m:\u001b[0m\u001b]8;id=117600;file://C:\\Users\\Aleks\\AppData\\Roaming\\Python\\Python310\\site-packages\\soccerdata\\whoscored.py#400\u001b\\\u001b[2m400\u001b[0m\u001b]8;;\u001b\\\n"
      ]
     },
     "metadata": {},
     "output_type": "display_data"
    },
    {
     "data": {
      "text/html": [
       "<pre style=\"white-space:pre;overflow-x:auto;line-height:normal;font-family:Menlo,'DejaVu Sans Mono',consolas,'Courier New',monospace\"><span style=\"color: #7fbfbf; text-decoration-color: #7fbfbf\">[07/31/24 22:07:55] </span><span style=\"color: #000080; text-decoration-color: #000080\">INFO    </span> <span style=\"font-weight: bold\">[</span><span style=\"color: #008080; text-decoration-color: #008080; font-weight: bold\">4</span>/<span style=\"color: #008080; text-decoration-color: #008080; font-weight: bold\">10</span><span style=\"font-weight: bold\">]</span> Retrieving fixtures for ENG-Premier League <span style=\"color: #008080; text-decoration-color: #008080; font-weight: bold\">2223</span>                <a href=\"file://C:\\Users\\Aleks\\AppData\\Roaming\\Python\\Python310\\site-packages\\soccerdata\\whoscored.py\" target=\"_blank\"><span style=\"color: #7f7f7f; text-decoration-color: #7f7f7f\">whoscored.py</span></a><span style=\"color: #7f7f7f; text-decoration-color: #7f7f7f\">:</span><a href=\"file://C:\\Users\\Aleks\\AppData\\Roaming\\Python\\Python310\\site-packages\\soccerdata\\whoscored.py#400\" target=\"_blank\"><span style=\"color: #7f7f7f; text-decoration-color: #7f7f7f\">400</span></a>\n",
       "</pre>\n"
      ],
      "text/plain": [
       "\u001b[2;36m[07/31/24 22:07:55]\u001b[0m\u001b[2;36m \u001b[0m\u001b[34mINFO    \u001b[0m \u001b[1m[\u001b[0m\u001b[1;36m4\u001b[0m/\u001b[1;36m10\u001b[0m\u001b[1m]\u001b[0m Retrieving fixtures for ENG-Premier League \u001b[1;36m2223\u001b[0m                \u001b]8;id=167120;file://C:\\Users\\Aleks\\AppData\\Roaming\\Python\\Python310\\site-packages\\soccerdata\\whoscored.py\u001b\\\u001b[2mwhoscored.py\u001b[0m\u001b]8;;\u001b\\\u001b[2m:\u001b[0m\u001b]8;id=834024;file://C:\\Users\\Aleks\\AppData\\Roaming\\Python\\Python310\\site-packages\\soccerdata\\whoscored.py#400\u001b\\\u001b[2m400\u001b[0m\u001b]8;;\u001b\\\n"
      ]
     },
     "metadata": {},
     "output_type": "display_data"
    },
    {
     "data": {
      "text/html": [
       "<pre style=\"white-space:pre;overflow-x:auto;line-height:normal;font-family:Menlo,'DejaVu Sans Mono',consolas,'Courier New',monospace\"><span style=\"color: #7fbfbf; text-decoration-color: #7fbfbf\">[07/31/24 22:08:00] </span><span style=\"color: #000080; text-decoration-color: #000080\">INFO    </span> <span style=\"font-weight: bold\">[</span><span style=\"color: #008080; text-decoration-color: #008080; font-weight: bold\">5</span>/<span style=\"color: #008080; text-decoration-color: #008080; font-weight: bold\">10</span><span style=\"font-weight: bold\">]</span> Retrieving fixtures for ENG-Premier League <span style=\"color: #008080; text-decoration-color: #008080; font-weight: bold\">2223</span>                <a href=\"file://C:\\Users\\Aleks\\AppData\\Roaming\\Python\\Python310\\site-packages\\soccerdata\\whoscored.py\" target=\"_blank\"><span style=\"color: #7f7f7f; text-decoration-color: #7f7f7f\">whoscored.py</span></a><span style=\"color: #7f7f7f; text-decoration-color: #7f7f7f\">:</span><a href=\"file://C:\\Users\\Aleks\\AppData\\Roaming\\Python\\Python310\\site-packages\\soccerdata\\whoscored.py#400\" target=\"_blank\"><span style=\"color: #7f7f7f; text-decoration-color: #7f7f7f\">400</span></a>\n",
       "</pre>\n"
      ],
      "text/plain": [
       "\u001b[2;36m[07/31/24 22:08:00]\u001b[0m\u001b[2;36m \u001b[0m\u001b[34mINFO    \u001b[0m \u001b[1m[\u001b[0m\u001b[1;36m5\u001b[0m/\u001b[1;36m10\u001b[0m\u001b[1m]\u001b[0m Retrieving fixtures for ENG-Premier League \u001b[1;36m2223\u001b[0m                \u001b]8;id=969773;file://C:\\Users\\Aleks\\AppData\\Roaming\\Python\\Python310\\site-packages\\soccerdata\\whoscored.py\u001b\\\u001b[2mwhoscored.py\u001b[0m\u001b]8;;\u001b\\\u001b[2m:\u001b[0m\u001b]8;id=599119;file://C:\\Users\\Aleks\\AppData\\Roaming\\Python\\Python310\\site-packages\\soccerdata\\whoscored.py#400\u001b\\\u001b[2m400\u001b[0m\u001b]8;;\u001b\\\n"
      ]
     },
     "metadata": {},
     "output_type": "display_data"
    },
    {
     "data": {
      "text/html": [
       "<pre style=\"white-space:pre;overflow-x:auto;line-height:normal;font-family:Menlo,'DejaVu Sans Mono',consolas,'Courier New',monospace\"><span style=\"color: #7fbfbf; text-decoration-color: #7fbfbf\">[07/31/24 22:08:10] </span><span style=\"color: #000080; text-decoration-color: #000080\">INFO    </span> <span style=\"font-weight: bold\">[</span><span style=\"color: #008080; text-decoration-color: #008080; font-weight: bold\">6</span>/<span style=\"color: #008080; text-decoration-color: #008080; font-weight: bold\">10</span><span style=\"font-weight: bold\">]</span> Retrieving fixtures for ENG-Premier League <span style=\"color: #008080; text-decoration-color: #008080; font-weight: bold\">2223</span>                <a href=\"file://C:\\Users\\Aleks\\AppData\\Roaming\\Python\\Python310\\site-packages\\soccerdata\\whoscored.py\" target=\"_blank\"><span style=\"color: #7f7f7f; text-decoration-color: #7f7f7f\">whoscored.py</span></a><span style=\"color: #7f7f7f; text-decoration-color: #7f7f7f\">:</span><a href=\"file://C:\\Users\\Aleks\\AppData\\Roaming\\Python\\Python310\\site-packages\\soccerdata\\whoscored.py#400\" target=\"_blank\"><span style=\"color: #7f7f7f; text-decoration-color: #7f7f7f\">400</span></a>\n",
       "</pre>\n"
      ],
      "text/plain": [
       "\u001b[2;36m[07/31/24 22:08:10]\u001b[0m\u001b[2;36m \u001b[0m\u001b[34mINFO    \u001b[0m \u001b[1m[\u001b[0m\u001b[1;36m6\u001b[0m/\u001b[1;36m10\u001b[0m\u001b[1m]\u001b[0m Retrieving fixtures for ENG-Premier League \u001b[1;36m2223\u001b[0m                \u001b]8;id=345694;file://C:\\Users\\Aleks\\AppData\\Roaming\\Python\\Python310\\site-packages\\soccerdata\\whoscored.py\u001b\\\u001b[2mwhoscored.py\u001b[0m\u001b]8;;\u001b\\\u001b[2m:\u001b[0m\u001b]8;id=50241;file://C:\\Users\\Aleks\\AppData\\Roaming\\Python\\Python310\\site-packages\\soccerdata\\whoscored.py#400\u001b\\\u001b[2m400\u001b[0m\u001b]8;;\u001b\\\n"
      ]
     },
     "metadata": {},
     "output_type": "display_data"
    },
    {
     "data": {
      "text/html": [
       "<pre style=\"white-space:pre;overflow-x:auto;line-height:normal;font-family:Menlo,'DejaVu Sans Mono',consolas,'Courier New',monospace\"><span style=\"color: #7fbfbf; text-decoration-color: #7fbfbf\">[07/31/24 22:08:20] </span><span style=\"color: #000080; text-decoration-color: #000080\">INFO    </span> <span style=\"font-weight: bold\">[</span><span style=\"color: #008080; text-decoration-color: #008080; font-weight: bold\">7</span>/<span style=\"color: #008080; text-decoration-color: #008080; font-weight: bold\">10</span><span style=\"font-weight: bold\">]</span> Retrieving fixtures for ENG-Premier League <span style=\"color: #008080; text-decoration-color: #008080; font-weight: bold\">2223</span>                <a href=\"file://C:\\Users\\Aleks\\AppData\\Roaming\\Python\\Python310\\site-packages\\soccerdata\\whoscored.py\" target=\"_blank\"><span style=\"color: #7f7f7f; text-decoration-color: #7f7f7f\">whoscored.py</span></a><span style=\"color: #7f7f7f; text-decoration-color: #7f7f7f\">:</span><a href=\"file://C:\\Users\\Aleks\\AppData\\Roaming\\Python\\Python310\\site-packages\\soccerdata\\whoscored.py#400\" target=\"_blank\"><span style=\"color: #7f7f7f; text-decoration-color: #7f7f7f\">400</span></a>\n",
       "</pre>\n"
      ],
      "text/plain": [
       "\u001b[2;36m[07/31/24 22:08:20]\u001b[0m\u001b[2;36m \u001b[0m\u001b[34mINFO    \u001b[0m \u001b[1m[\u001b[0m\u001b[1;36m7\u001b[0m/\u001b[1;36m10\u001b[0m\u001b[1m]\u001b[0m Retrieving fixtures for ENG-Premier League \u001b[1;36m2223\u001b[0m                \u001b]8;id=851279;file://C:\\Users\\Aleks\\AppData\\Roaming\\Python\\Python310\\site-packages\\soccerdata\\whoscored.py\u001b\\\u001b[2mwhoscored.py\u001b[0m\u001b]8;;\u001b\\\u001b[2m:\u001b[0m\u001b]8;id=754889;file://C:\\Users\\Aleks\\AppData\\Roaming\\Python\\Python310\\site-packages\\soccerdata\\whoscored.py#400\u001b\\\u001b[2m400\u001b[0m\u001b]8;;\u001b\\\n"
      ]
     },
     "metadata": {},
     "output_type": "display_data"
    },
    {
     "data": {
      "text/html": [
       "<pre style=\"white-space:pre;overflow-x:auto;line-height:normal;font-family:Menlo,'DejaVu Sans Mono',consolas,'Courier New',monospace\"><span style=\"color: #7fbfbf; text-decoration-color: #7fbfbf\">[07/31/24 22:08:28] </span><span style=\"color: #000080; text-decoration-color: #000080\">INFO    </span> <span style=\"font-weight: bold\">[</span><span style=\"color: #008080; text-decoration-color: #008080; font-weight: bold\">8</span>/<span style=\"color: #008080; text-decoration-color: #008080; font-weight: bold\">10</span><span style=\"font-weight: bold\">]</span> Retrieving fixtures for ENG-Premier League <span style=\"color: #008080; text-decoration-color: #008080; font-weight: bold\">2223</span>                <a href=\"file://C:\\Users\\Aleks\\AppData\\Roaming\\Python\\Python310\\site-packages\\soccerdata\\whoscored.py\" target=\"_blank\"><span style=\"color: #7f7f7f; text-decoration-color: #7f7f7f\">whoscored.py</span></a><span style=\"color: #7f7f7f; text-decoration-color: #7f7f7f\">:</span><a href=\"file://C:\\Users\\Aleks\\AppData\\Roaming\\Python\\Python310\\site-packages\\soccerdata\\whoscored.py#400\" target=\"_blank\"><span style=\"color: #7f7f7f; text-decoration-color: #7f7f7f\">400</span></a>\n",
       "</pre>\n"
      ],
      "text/plain": [
       "\u001b[2;36m[07/31/24 22:08:28]\u001b[0m\u001b[2;36m \u001b[0m\u001b[34mINFO    \u001b[0m \u001b[1m[\u001b[0m\u001b[1;36m8\u001b[0m/\u001b[1;36m10\u001b[0m\u001b[1m]\u001b[0m Retrieving fixtures for ENG-Premier League \u001b[1;36m2223\u001b[0m                \u001b]8;id=206962;file://C:\\Users\\Aleks\\AppData\\Roaming\\Python\\Python310\\site-packages\\soccerdata\\whoscored.py\u001b\\\u001b[2mwhoscored.py\u001b[0m\u001b]8;;\u001b\\\u001b[2m:\u001b[0m\u001b]8;id=478264;file://C:\\Users\\Aleks\\AppData\\Roaming\\Python\\Python310\\site-packages\\soccerdata\\whoscored.py#400\u001b\\\u001b[2m400\u001b[0m\u001b]8;;\u001b\\\n"
      ]
     },
     "metadata": {},
     "output_type": "display_data"
    },
    {
     "data": {
      "text/html": [
       "<pre style=\"white-space:pre;overflow-x:auto;line-height:normal;font-family:Menlo,'DejaVu Sans Mono',consolas,'Courier New',monospace\"><span style=\"color: #7fbfbf; text-decoration-color: #7fbfbf\">[07/31/24 22:08:37] </span><span style=\"color: #000080; text-decoration-color: #000080\">INFO    </span> <span style=\"font-weight: bold\">[</span><span style=\"color: #008080; text-decoration-color: #008080; font-weight: bold\">9</span>/<span style=\"color: #008080; text-decoration-color: #008080; font-weight: bold\">10</span><span style=\"font-weight: bold\">]</span> Retrieving fixtures for ENG-Premier League <span style=\"color: #008080; text-decoration-color: #008080; font-weight: bold\">2223</span>                <a href=\"file://C:\\Users\\Aleks\\AppData\\Roaming\\Python\\Python310\\site-packages\\soccerdata\\whoscored.py\" target=\"_blank\"><span style=\"color: #7f7f7f; text-decoration-color: #7f7f7f\">whoscored.py</span></a><span style=\"color: #7f7f7f; text-decoration-color: #7f7f7f\">:</span><a href=\"file://C:\\Users\\Aleks\\AppData\\Roaming\\Python\\Python310\\site-packages\\soccerdata\\whoscored.py#400\" target=\"_blank\"><span style=\"color: #7f7f7f; text-decoration-color: #7f7f7f\">400</span></a>\n",
       "</pre>\n"
      ],
      "text/plain": [
       "\u001b[2;36m[07/31/24 22:08:37]\u001b[0m\u001b[2;36m \u001b[0m\u001b[34mINFO    \u001b[0m \u001b[1m[\u001b[0m\u001b[1;36m9\u001b[0m/\u001b[1;36m10\u001b[0m\u001b[1m]\u001b[0m Retrieving fixtures for ENG-Premier League \u001b[1;36m2223\u001b[0m                \u001b]8;id=261849;file://C:\\Users\\Aleks\\AppData\\Roaming\\Python\\Python310\\site-packages\\soccerdata\\whoscored.py\u001b\\\u001b[2mwhoscored.py\u001b[0m\u001b]8;;\u001b\\\u001b[2m:\u001b[0m\u001b]8;id=909455;file://C:\\Users\\Aleks\\AppData\\Roaming\\Python\\Python310\\site-packages\\soccerdata\\whoscored.py#400\u001b\\\u001b[2m400\u001b[0m\u001b]8;;\u001b\\\n"
      ]
     },
     "metadata": {},
     "output_type": "display_data"
    },
    {
     "data": {
      "text/html": [
       "<pre style=\"white-space:pre;overflow-x:auto;line-height:normal;font-family:Menlo,'DejaVu Sans Mono',consolas,'Courier New',monospace\"><span style=\"color: #7fbfbf; text-decoration-color: #7fbfbf\">[07/31/24 22:08:46] </span><span style=\"color: #000080; text-decoration-color: #000080\">INFO    </span> <span style=\"font-weight: bold\">[</span><span style=\"color: #008080; text-decoration-color: #008080; font-weight: bold\">10</span>/<span style=\"color: #008080; text-decoration-color: #008080; font-weight: bold\">10</span><span style=\"font-weight: bold\">]</span> Retrieving fixtures for ENG-Premier League <span style=\"color: #008080; text-decoration-color: #008080; font-weight: bold\">2223</span>               <a href=\"file://C:\\Users\\Aleks\\AppData\\Roaming\\Python\\Python310\\site-packages\\soccerdata\\whoscored.py\" target=\"_blank\"><span style=\"color: #7f7f7f; text-decoration-color: #7f7f7f\">whoscored.py</span></a><span style=\"color: #7f7f7f; text-decoration-color: #7f7f7f\">:</span><a href=\"file://C:\\Users\\Aleks\\AppData\\Roaming\\Python\\Python310\\site-packages\\soccerdata\\whoscored.py#400\" target=\"_blank\"><span style=\"color: #7f7f7f; text-decoration-color: #7f7f7f\">400</span></a>\n",
       "</pre>\n"
      ],
      "text/plain": [
       "\u001b[2;36m[07/31/24 22:08:46]\u001b[0m\u001b[2;36m \u001b[0m\u001b[34mINFO    \u001b[0m \u001b[1m[\u001b[0m\u001b[1;36m10\u001b[0m/\u001b[1;36m10\u001b[0m\u001b[1m]\u001b[0m Retrieving fixtures for ENG-Premier League \u001b[1;36m2223\u001b[0m               \u001b]8;id=279646;file://C:\\Users\\Aleks\\AppData\\Roaming\\Python\\Python310\\site-packages\\soccerdata\\whoscored.py\u001b\\\u001b[2mwhoscored.py\u001b[0m\u001b]8;;\u001b\\\u001b[2m:\u001b[0m\u001b]8;id=164208;file://C:\\Users\\Aleks\\AppData\\Roaming\\Python\\Python310\\site-packages\\soccerdata\\whoscored.py#400\u001b\\\u001b[2m400\u001b[0m\u001b]8;;\u001b\\\n"
      ]
     },
     "metadata": {},
     "output_type": "display_data"
    }
   ],
   "source": [
    "schedule = ws.read_schedule()"
   ]
  },
  {
   "cell_type": "code",
   "execution_count": 15,
   "metadata": {},
   "outputs": [
    {
     "data": {
      "text/html": [
       "<div>\n",
       "<style scoped>\n",
       "    .dataframe tbody tr th:only-of-type {\n",
       "        vertical-align: middle;\n",
       "    }\n",
       "\n",
       "    .dataframe tbody tr th {\n",
       "        vertical-align: top;\n",
       "    }\n",
       "\n",
       "    .dataframe thead th {\n",
       "        text-align: right;\n",
       "    }\n",
       "</style>\n",
       "<table border=\"1\" class=\"dataframe\">\n",
       "  <thead>\n",
       "    <tr style=\"text-align: right;\">\n",
       "      <th></th>\n",
       "      <th></th>\n",
       "      <th></th>\n",
       "      <th>stage_id</th>\n",
       "      <th>game_id</th>\n",
       "      <th>status</th>\n",
       "      <th>start_time</th>\n",
       "      <th>home_team_id</th>\n",
       "      <th>home_team</th>\n",
       "      <th>home_yellow_cards</th>\n",
       "      <th>home_red_cards</th>\n",
       "      <th>away_team_id</th>\n",
       "      <th>away_team</th>\n",
       "      <th>away_yellow_cards</th>\n",
       "      <th>away_red_cards</th>\n",
       "      <th>has_incidents_summary</th>\n",
       "      <th>has_preview</th>\n",
       "      <th>score_changed_at</th>\n",
       "      <th>elapsed</th>\n",
       "      <th>last_scorer</th>\n",
       "      <th>is_top_match</th>\n",
       "      <th>home_team_country_code</th>\n",
       "      <th>away_team_country_code</th>\n",
       "      <th>comment_count</th>\n",
       "      <th>is_lineup_confirmed</th>\n",
       "      <th>is_stream_available</th>\n",
       "      <th>match_is_opta</th>\n",
       "      <th>home_team_country_name</th>\n",
       "      <th>away_team_country_name</th>\n",
       "      <th>date</th>\n",
       "      <th>home_score</th>\n",
       "      <th>away_score</th>\n",
       "      <th>incidents</th>\n",
       "      <th>bets</th>\n",
       "      <th>aggregate_winner_field</th>\n",
       "      <th>winner_field</th>\n",
       "      <th>period</th>\n",
       "      <th>extra_result_field</th>\n",
       "      <th>home_extratime_score</th>\n",
       "      <th>away_extratime_score</th>\n",
       "      <th>home_penalty_score</th>\n",
       "      <th>away_penalty_score</th>\n",
       "      <th>started_at_utc</th>\n",
       "      <th>first_half_ended_at_utc</th>\n",
       "      <th>second_half_started_at_utc</th>\n",
       "      <th>stage</th>\n",
       "    </tr>\n",
       "    <tr>\n",
       "      <th>league</th>\n",
       "      <th>season</th>\n",
       "      <th>game</th>\n",
       "      <th></th>\n",
       "      <th></th>\n",
       "      <th></th>\n",
       "      <th></th>\n",
       "      <th></th>\n",
       "      <th></th>\n",
       "      <th></th>\n",
       "      <th></th>\n",
       "      <th></th>\n",
       "      <th></th>\n",
       "      <th></th>\n",
       "      <th></th>\n",
       "      <th></th>\n",
       "      <th></th>\n",
       "      <th></th>\n",
       "      <th></th>\n",
       "      <th></th>\n",
       "      <th></th>\n",
       "      <th></th>\n",
       "      <th></th>\n",
       "      <th></th>\n",
       "      <th></th>\n",
       "      <th></th>\n",
       "      <th></th>\n",
       "      <th></th>\n",
       "      <th></th>\n",
       "      <th></th>\n",
       "      <th></th>\n",
       "      <th></th>\n",
       "      <th></th>\n",
       "      <th></th>\n",
       "      <th></th>\n",
       "      <th></th>\n",
       "      <th></th>\n",
       "      <th></th>\n",
       "      <th></th>\n",
       "      <th></th>\n",
       "      <th></th>\n",
       "      <th></th>\n",
       "      <th></th>\n",
       "      <th></th>\n",
       "      <th></th>\n",
       "      <th></th>\n",
       "    </tr>\n",
       "  </thead>\n",
       "  <tbody>\n",
       "    <tr>\n",
       "      <th>ENG-Premier League</th>\n",
       "      <th>2223</th>\n",
       "      <th>2023-03-04 Brighton-West Ham</th>\n",
       "      <td>20934</td>\n",
       "      <td>1640881</td>\n",
       "      <td>6</td>\n",
       "      <td>2023-03-04T15:00:00</td>\n",
       "      <td>211</td>\n",
       "      <td>Brighton</td>\n",
       "      <td>0</td>\n",
       "      <td>0</td>\n",
       "      <td>29</td>\n",
       "      <td>West Ham</td>\n",
       "      <td>3</td>\n",
       "      <td>0</td>\n",
       "      <td>True</td>\n",
       "      <td>True</td>\n",
       "      <td>2023-03-04 16:52:17Z</td>\n",
       "      <td>FT</td>\n",
       "      <td>0.0</td>\n",
       "      <td>False</td>\n",
       "      <td>gb-eng</td>\n",
       "      <td>gb-eng</td>\n",
       "      <td>3</td>\n",
       "      <td>True</td>\n",
       "      <td>False</td>\n",
       "      <td>False</td>\n",
       "      <td>England</td>\n",
       "      <td>England</td>\n",
       "      <td>2023-03-04 15:00:00+00:00</td>\n",
       "      <td>4</td>\n",
       "      <td>0</td>\n",
       "      <td>[{'minute': '18', 'type': 1, 'subType': 2, 'pl...</td>\n",
       "      <td>None</td>\n",
       "      <td>None</td>\n",
       "      <td>0.0</td>\n",
       "      <td>3</td>\n",
       "      <td>None</td>\n",
       "      <td>None</td>\n",
       "      <td>None</td>\n",
       "      <td>None</td>\n",
       "      <td>None</td>\n",
       "      <td>2023-03-04T15:00:14Z</td>\n",
       "      <td>2023-03-04T15:48:19Z</td>\n",
       "      <td>2023-03-04T16:03:42Z</td>\n",
       "      <td>None</td>\n",
       "    </tr>\n",
       "  </tbody>\n",
       "</table>\n",
       "</div>"
      ],
      "text/plain": [
       "                                                        stage_id  game_id  \\\n",
       "league             season game                                              \n",
       "ENG-Premier League 2223   2023-03-04 Brighton-West Ham     20934  1640881   \n",
       "\n",
       "                                                        status  \\\n",
       "league             season game                                   \n",
       "ENG-Premier League 2223   2023-03-04 Brighton-West Ham       6   \n",
       "\n",
       "                                                                 start_time  \\\n",
       "league             season game                                                \n",
       "ENG-Premier League 2223   2023-03-04 Brighton-West Ham  2023-03-04T15:00:00   \n",
       "\n",
       "                                                        home_team_id  \\\n",
       "league             season game                                         \n",
       "ENG-Premier League 2223   2023-03-04 Brighton-West Ham           211   \n",
       "\n",
       "                                                       home_team  \\\n",
       "league             season game                                     \n",
       "ENG-Premier League 2223   2023-03-04 Brighton-West Ham  Brighton   \n",
       "\n",
       "                                                        home_yellow_cards  \\\n",
       "league             season game                                              \n",
       "ENG-Premier League 2223   2023-03-04 Brighton-West Ham                  0   \n",
       "\n",
       "                                                        home_red_cards  \\\n",
       "league             season game                                           \n",
       "ENG-Premier League 2223   2023-03-04 Brighton-West Ham               0   \n",
       "\n",
       "                                                        away_team_id  \\\n",
       "league             season game                                         \n",
       "ENG-Premier League 2223   2023-03-04 Brighton-West Ham            29   \n",
       "\n",
       "                                                       away_team  \\\n",
       "league             season game                                     \n",
       "ENG-Premier League 2223   2023-03-04 Brighton-West Ham  West Ham   \n",
       "\n",
       "                                                        away_yellow_cards  \\\n",
       "league             season game                                              \n",
       "ENG-Premier League 2223   2023-03-04 Brighton-West Ham                  3   \n",
       "\n",
       "                                                        away_red_cards  \\\n",
       "league             season game                                           \n",
       "ENG-Premier League 2223   2023-03-04 Brighton-West Ham               0   \n",
       "\n",
       "                                                        has_incidents_summary  \\\n",
       "league             season game                                                  \n",
       "ENG-Premier League 2223   2023-03-04 Brighton-West Ham                   True   \n",
       "\n",
       "                                                        has_preview  \\\n",
       "league             season game                                        \n",
       "ENG-Premier League 2223   2023-03-04 Brighton-West Ham         True   \n",
       "\n",
       "                                                            score_changed_at  \\\n",
       "league             season game                                                 \n",
       "ENG-Premier League 2223   2023-03-04 Brighton-West Ham  2023-03-04 16:52:17Z   \n",
       "\n",
       "                                                       elapsed  last_scorer  \\\n",
       "league             season game                                                \n",
       "ENG-Premier League 2223   2023-03-04 Brighton-West Ham      FT          0.0   \n",
       "\n",
       "                                                        is_top_match  \\\n",
       "league             season game                                         \n",
       "ENG-Premier League 2223   2023-03-04 Brighton-West Ham         False   \n",
       "\n",
       "                                                       home_team_country_code  \\\n",
       "league             season game                                                  \n",
       "ENG-Premier League 2223   2023-03-04 Brighton-West Ham                 gb-eng   \n",
       "\n",
       "                                                       away_team_country_code  \\\n",
       "league             season game                                                  \n",
       "ENG-Premier League 2223   2023-03-04 Brighton-West Ham                 gb-eng   \n",
       "\n",
       "                                                        comment_count  \\\n",
       "league             season game                                          \n",
       "ENG-Premier League 2223   2023-03-04 Brighton-West Ham              3   \n",
       "\n",
       "                                                        is_lineup_confirmed  \\\n",
       "league             season game                                                \n",
       "ENG-Premier League 2223   2023-03-04 Brighton-West Ham                 True   \n",
       "\n",
       "                                                        is_stream_available  \\\n",
       "league             season game                                                \n",
       "ENG-Premier League 2223   2023-03-04 Brighton-West Ham                False   \n",
       "\n",
       "                                                        match_is_opta  \\\n",
       "league             season game                                          \n",
       "ENG-Premier League 2223   2023-03-04 Brighton-West Ham          False   \n",
       "\n",
       "                                                       home_team_country_name  \\\n",
       "league             season game                                                  \n",
       "ENG-Premier League 2223   2023-03-04 Brighton-West Ham                England   \n",
       "\n",
       "                                                       away_team_country_name  \\\n",
       "league             season game                                                  \n",
       "ENG-Premier League 2223   2023-03-04 Brighton-West Ham                England   \n",
       "\n",
       "                                                                            date  \\\n",
       "league             season game                                                     \n",
       "ENG-Premier League 2223   2023-03-04 Brighton-West Ham 2023-03-04 15:00:00+00:00   \n",
       "\n",
       "                                                        home_score  \\\n",
       "league             season game                                       \n",
       "ENG-Premier League 2223   2023-03-04 Brighton-West Ham           4   \n",
       "\n",
       "                                                        away_score  \\\n",
       "league             season game                                       \n",
       "ENG-Premier League 2223   2023-03-04 Brighton-West Ham           0   \n",
       "\n",
       "                                                                                                incidents  \\\n",
       "league             season game                                                                              \n",
       "ENG-Premier League 2223   2023-03-04 Brighton-West Ham  [{'minute': '18', 'type': 1, 'subType': 2, 'pl...   \n",
       "\n",
       "                                                        bets  \\\n",
       "league             season game                                 \n",
       "ENG-Premier League 2223   2023-03-04 Brighton-West Ham  None   \n",
       "\n",
       "                                                       aggregate_winner_field  \\\n",
       "league             season game                                                  \n",
       "ENG-Premier League 2223   2023-03-04 Brighton-West Ham                   None   \n",
       "\n",
       "                                                        winner_field  period  \\\n",
       "league             season game                                                 \n",
       "ENG-Premier League 2223   2023-03-04 Brighton-West Ham           0.0       3   \n",
       "\n",
       "                                                       extra_result_field  \\\n",
       "league             season game                                              \n",
       "ENG-Premier League 2223   2023-03-04 Brighton-West Ham               None   \n",
       "\n",
       "                                                       home_extratime_score  \\\n",
       "league             season game                                                \n",
       "ENG-Premier League 2223   2023-03-04 Brighton-West Ham                 None   \n",
       "\n",
       "                                                       away_extratime_score  \\\n",
       "league             season game                                                \n",
       "ENG-Premier League 2223   2023-03-04 Brighton-West Ham                 None   \n",
       "\n",
       "                                                       home_penalty_score  \\\n",
       "league             season game                                              \n",
       "ENG-Premier League 2223   2023-03-04 Brighton-West Ham               None   \n",
       "\n",
       "                                                       away_penalty_score  \\\n",
       "league             season game                                              \n",
       "ENG-Premier League 2223   2023-03-04 Brighton-West Ham               None   \n",
       "\n",
       "                                                              started_at_utc  \\\n",
       "league             season game                                                 \n",
       "ENG-Premier League 2223   2023-03-04 Brighton-West Ham  2023-03-04T15:00:14Z   \n",
       "\n",
       "                                                       first_half_ended_at_utc  \\\n",
       "league             season game                                                   \n",
       "ENG-Premier League 2223   2023-03-04 Brighton-West Ham    2023-03-04T15:48:19Z   \n",
       "\n",
       "                                                       second_half_started_at_utc  \\\n",
       "league             season game                                                      \n",
       "ENG-Premier League 2223   2023-03-04 Brighton-West Ham       2023-03-04T16:03:42Z   \n",
       "\n",
       "                                                       stage  \n",
       "league             season game                                \n",
       "ENG-Premier League 2223   2023-03-04 Brighton-West Ham  None  "
      ]
     },
     "execution_count": 15,
     "metadata": {},
     "output_type": "execute_result"
    }
   ],
   "source": [
    "schedule[(schedule['home_team']=='Brighton') & (schedule['away_team']=='West Ham')]"
   ]
  },
  {
   "cell_type": "code",
   "execution_count": 16,
   "metadata": {},
   "outputs": [],
   "source": [
    "match_id = 1640881"
   ]
  },
  {
   "cell_type": "code",
   "execution_count": 19,
   "metadata": {},
   "outputs": [
    {
     "data": {
      "text/html": [
       "<pre style=\"white-space:pre;overflow-x:auto;line-height:normal;font-family:Menlo,'DejaVu Sans Mono',consolas,'Courier New',monospace\"><span style=\"color: #7fbfbf; text-decoration-color: #7fbfbf\">[07/31/24 22:12:08] </span><span style=\"color: #000080; text-decoration-color: #000080\">INFO    </span> Retrieving calendar for ENG-Premier League <span style=\"color: #008080; text-decoration-color: #008080; font-weight: bold\">2223</span>                       <a href=\"file://C:\\Users\\Aleks\\AppData\\Roaming\\Python\\Python310\\site-packages\\soccerdata\\whoscored.py\" target=\"_blank\"><span style=\"color: #7f7f7f; text-decoration-color: #7f7f7f\">whoscored.py</span></a><span style=\"color: #7f7f7f; text-decoration-color: #7f7f7f\">:</span><a href=\"file://C:\\Users\\Aleks\\AppData\\Roaming\\Python\\Python310\\site-packages\\soccerdata\\whoscored.py#371\" target=\"_blank\"><span style=\"color: #7f7f7f; text-decoration-color: #7f7f7f\">371</span></a>\n",
       "</pre>\n"
      ],
      "text/plain": [
       "\u001b[2;36m[07/31/24 22:12:08]\u001b[0m\u001b[2;36m \u001b[0m\u001b[34mINFO    \u001b[0m Retrieving calendar for ENG-Premier League \u001b[1;36m2223\u001b[0m                       \u001b]8;id=626834;file://C:\\Users\\Aleks\\AppData\\Roaming\\Python\\Python310\\site-packages\\soccerdata\\whoscored.py\u001b\\\u001b[2mwhoscored.py\u001b[0m\u001b]8;;\u001b\\\u001b[2m:\u001b[0m\u001b]8;id=188950;file://C:\\Users\\Aleks\\AppData\\Roaming\\Python\\Python310\\site-packages\\soccerdata\\whoscored.py#371\u001b\\\u001b[2m371\u001b[0m\u001b]8;;\u001b\\\n"
      ]
     },
     "metadata": {},
     "output_type": "display_data"
    },
    {
     "data": {
      "text/html": [
       "<pre style=\"white-space:pre;overflow-x:auto;line-height:normal;font-family:Menlo,'DejaVu Sans Mono',consolas,'Courier New',monospace\"><span style=\"color: #7fbfbf; text-decoration-color: #7fbfbf\">                    </span><span style=\"color: #000080; text-decoration-color: #000080\">INFO    </span> <span style=\"font-weight: bold\">[</span><span style=\"color: #008080; text-decoration-color: #008080; font-weight: bold\">1</span>/<span style=\"color: #008080; text-decoration-color: #008080; font-weight: bold\">10</span><span style=\"font-weight: bold\">]</span> Retrieving fixtures for ENG-Premier League <span style=\"color: #008080; text-decoration-color: #008080; font-weight: bold\">2223</span>                <a href=\"file://C:\\Users\\Aleks\\AppData\\Roaming\\Python\\Python310\\site-packages\\soccerdata\\whoscored.py\" target=\"_blank\"><span style=\"color: #7f7f7f; text-decoration-color: #7f7f7f\">whoscored.py</span></a><span style=\"color: #7f7f7f; text-decoration-color: #7f7f7f\">:</span><a href=\"file://C:\\Users\\Aleks\\AppData\\Roaming\\Python\\Python310\\site-packages\\soccerdata\\whoscored.py#400\" target=\"_blank\"><span style=\"color: #7f7f7f; text-decoration-color: #7f7f7f\">400</span></a>\n",
       "</pre>\n"
      ],
      "text/plain": [
       "\u001b[2;36m                   \u001b[0m\u001b[2;36m \u001b[0m\u001b[34mINFO    \u001b[0m \u001b[1m[\u001b[0m\u001b[1;36m1\u001b[0m/\u001b[1;36m10\u001b[0m\u001b[1m]\u001b[0m Retrieving fixtures for ENG-Premier League \u001b[1;36m2223\u001b[0m                \u001b]8;id=433750;file://C:\\Users\\Aleks\\AppData\\Roaming\\Python\\Python310\\site-packages\\soccerdata\\whoscored.py\u001b\\\u001b[2mwhoscored.py\u001b[0m\u001b]8;;\u001b\\\u001b[2m:\u001b[0m\u001b]8;id=894225;file://C:\\Users\\Aleks\\AppData\\Roaming\\Python\\Python310\\site-packages\\soccerdata\\whoscored.py#400\u001b\\\u001b[2m400\u001b[0m\u001b]8;;\u001b\\\n"
      ]
     },
     "metadata": {},
     "output_type": "display_data"
    },
    {
     "data": {
      "text/html": [
       "<pre style=\"white-space:pre;overflow-x:auto;line-height:normal;font-family:Menlo,'DejaVu Sans Mono',consolas,'Courier New',monospace\"><span style=\"color: #7fbfbf; text-decoration-color: #7fbfbf\">                    </span><span style=\"color: #000080; text-decoration-color: #000080\">INFO    </span> <span style=\"font-weight: bold\">[</span><span style=\"color: #008080; text-decoration-color: #008080; font-weight: bold\">2</span>/<span style=\"color: #008080; text-decoration-color: #008080; font-weight: bold\">10</span><span style=\"font-weight: bold\">]</span> Retrieving fixtures for ENG-Premier League <span style=\"color: #008080; text-decoration-color: #008080; font-weight: bold\">2223</span>                <a href=\"file://C:\\Users\\Aleks\\AppData\\Roaming\\Python\\Python310\\site-packages\\soccerdata\\whoscored.py\" target=\"_blank\"><span style=\"color: #7f7f7f; text-decoration-color: #7f7f7f\">whoscored.py</span></a><span style=\"color: #7f7f7f; text-decoration-color: #7f7f7f\">:</span><a href=\"file://C:\\Users\\Aleks\\AppData\\Roaming\\Python\\Python310\\site-packages\\soccerdata\\whoscored.py#400\" target=\"_blank\"><span style=\"color: #7f7f7f; text-decoration-color: #7f7f7f\">400</span></a>\n",
       "</pre>\n"
      ],
      "text/plain": [
       "\u001b[2;36m                   \u001b[0m\u001b[2;36m \u001b[0m\u001b[34mINFO    \u001b[0m \u001b[1m[\u001b[0m\u001b[1;36m2\u001b[0m/\u001b[1;36m10\u001b[0m\u001b[1m]\u001b[0m Retrieving fixtures for ENG-Premier League \u001b[1;36m2223\u001b[0m                \u001b]8;id=794384;file://C:\\Users\\Aleks\\AppData\\Roaming\\Python\\Python310\\site-packages\\soccerdata\\whoscored.py\u001b\\\u001b[2mwhoscored.py\u001b[0m\u001b]8;;\u001b\\\u001b[2m:\u001b[0m\u001b]8;id=361181;file://C:\\Users\\Aleks\\AppData\\Roaming\\Python\\Python310\\site-packages\\soccerdata\\whoscored.py#400\u001b\\\u001b[2m400\u001b[0m\u001b]8;;\u001b\\\n"
      ]
     },
     "metadata": {},
     "output_type": "display_data"
    },
    {
     "data": {
      "text/html": [
       "<pre style=\"white-space:pre;overflow-x:auto;line-height:normal;font-family:Menlo,'DejaVu Sans Mono',consolas,'Courier New',monospace\"><span style=\"color: #7fbfbf; text-decoration-color: #7fbfbf\">                    </span><span style=\"color: #000080; text-decoration-color: #000080\">INFO    </span> <span style=\"font-weight: bold\">[</span><span style=\"color: #008080; text-decoration-color: #008080; font-weight: bold\">3</span>/<span style=\"color: #008080; text-decoration-color: #008080; font-weight: bold\">10</span><span style=\"font-weight: bold\">]</span> Retrieving fixtures for ENG-Premier League <span style=\"color: #008080; text-decoration-color: #008080; font-weight: bold\">2223</span>                <a href=\"file://C:\\Users\\Aleks\\AppData\\Roaming\\Python\\Python310\\site-packages\\soccerdata\\whoscored.py\" target=\"_blank\"><span style=\"color: #7f7f7f; text-decoration-color: #7f7f7f\">whoscored.py</span></a><span style=\"color: #7f7f7f; text-decoration-color: #7f7f7f\">:</span><a href=\"file://C:\\Users\\Aleks\\AppData\\Roaming\\Python\\Python310\\site-packages\\soccerdata\\whoscored.py#400\" target=\"_blank\"><span style=\"color: #7f7f7f; text-decoration-color: #7f7f7f\">400</span></a>\n",
       "</pre>\n"
      ],
      "text/plain": [
       "\u001b[2;36m                   \u001b[0m\u001b[2;36m \u001b[0m\u001b[34mINFO    \u001b[0m \u001b[1m[\u001b[0m\u001b[1;36m3\u001b[0m/\u001b[1;36m10\u001b[0m\u001b[1m]\u001b[0m Retrieving fixtures for ENG-Premier League \u001b[1;36m2223\u001b[0m                \u001b]8;id=177618;file://C:\\Users\\Aleks\\AppData\\Roaming\\Python\\Python310\\site-packages\\soccerdata\\whoscored.py\u001b\\\u001b[2mwhoscored.py\u001b[0m\u001b]8;;\u001b\\\u001b[2m:\u001b[0m\u001b]8;id=825257;file://C:\\Users\\Aleks\\AppData\\Roaming\\Python\\Python310\\site-packages\\soccerdata\\whoscored.py#400\u001b\\\u001b[2m400\u001b[0m\u001b]8;;\u001b\\\n"
      ]
     },
     "metadata": {},
     "output_type": "display_data"
    },
    {
     "data": {
      "text/html": [
       "<pre style=\"white-space:pre;overflow-x:auto;line-height:normal;font-family:Menlo,'DejaVu Sans Mono',consolas,'Courier New',monospace\"><span style=\"color: #7fbfbf; text-decoration-color: #7fbfbf\">                    </span><span style=\"color: #000080; text-decoration-color: #000080\">INFO    </span> <span style=\"font-weight: bold\">[</span><span style=\"color: #008080; text-decoration-color: #008080; font-weight: bold\">4</span>/<span style=\"color: #008080; text-decoration-color: #008080; font-weight: bold\">10</span><span style=\"font-weight: bold\">]</span> Retrieving fixtures for ENG-Premier League <span style=\"color: #008080; text-decoration-color: #008080; font-weight: bold\">2223</span>                <a href=\"file://C:\\Users\\Aleks\\AppData\\Roaming\\Python\\Python310\\site-packages\\soccerdata\\whoscored.py\" target=\"_blank\"><span style=\"color: #7f7f7f; text-decoration-color: #7f7f7f\">whoscored.py</span></a><span style=\"color: #7f7f7f; text-decoration-color: #7f7f7f\">:</span><a href=\"file://C:\\Users\\Aleks\\AppData\\Roaming\\Python\\Python310\\site-packages\\soccerdata\\whoscored.py#400\" target=\"_blank\"><span style=\"color: #7f7f7f; text-decoration-color: #7f7f7f\">400</span></a>\n",
       "</pre>\n"
      ],
      "text/plain": [
       "\u001b[2;36m                   \u001b[0m\u001b[2;36m \u001b[0m\u001b[34mINFO    \u001b[0m \u001b[1m[\u001b[0m\u001b[1;36m4\u001b[0m/\u001b[1;36m10\u001b[0m\u001b[1m]\u001b[0m Retrieving fixtures for ENG-Premier League \u001b[1;36m2223\u001b[0m                \u001b]8;id=486576;file://C:\\Users\\Aleks\\AppData\\Roaming\\Python\\Python310\\site-packages\\soccerdata\\whoscored.py\u001b\\\u001b[2mwhoscored.py\u001b[0m\u001b]8;;\u001b\\\u001b[2m:\u001b[0m\u001b]8;id=346268;file://C:\\Users\\Aleks\\AppData\\Roaming\\Python\\Python310\\site-packages\\soccerdata\\whoscored.py#400\u001b\\\u001b[2m400\u001b[0m\u001b]8;;\u001b\\\n"
      ]
     },
     "metadata": {},
     "output_type": "display_data"
    },
    {
     "data": {
      "text/html": [
       "<pre style=\"white-space:pre;overflow-x:auto;line-height:normal;font-family:Menlo,'DejaVu Sans Mono',consolas,'Courier New',monospace\"><span style=\"color: #7fbfbf; text-decoration-color: #7fbfbf\">                    </span><span style=\"color: #000080; text-decoration-color: #000080\">INFO    </span> <span style=\"font-weight: bold\">[</span><span style=\"color: #008080; text-decoration-color: #008080; font-weight: bold\">5</span>/<span style=\"color: #008080; text-decoration-color: #008080; font-weight: bold\">10</span><span style=\"font-weight: bold\">]</span> Retrieving fixtures for ENG-Premier League <span style=\"color: #008080; text-decoration-color: #008080; font-weight: bold\">2223</span>                <a href=\"file://C:\\Users\\Aleks\\AppData\\Roaming\\Python\\Python310\\site-packages\\soccerdata\\whoscored.py\" target=\"_blank\"><span style=\"color: #7f7f7f; text-decoration-color: #7f7f7f\">whoscored.py</span></a><span style=\"color: #7f7f7f; text-decoration-color: #7f7f7f\">:</span><a href=\"file://C:\\Users\\Aleks\\AppData\\Roaming\\Python\\Python310\\site-packages\\soccerdata\\whoscored.py#400\" target=\"_blank\"><span style=\"color: #7f7f7f; text-decoration-color: #7f7f7f\">400</span></a>\n",
       "</pre>\n"
      ],
      "text/plain": [
       "\u001b[2;36m                   \u001b[0m\u001b[2;36m \u001b[0m\u001b[34mINFO    \u001b[0m \u001b[1m[\u001b[0m\u001b[1;36m5\u001b[0m/\u001b[1;36m10\u001b[0m\u001b[1m]\u001b[0m Retrieving fixtures for ENG-Premier League \u001b[1;36m2223\u001b[0m                \u001b]8;id=578326;file://C:\\Users\\Aleks\\AppData\\Roaming\\Python\\Python310\\site-packages\\soccerdata\\whoscored.py\u001b\\\u001b[2mwhoscored.py\u001b[0m\u001b]8;;\u001b\\\u001b[2m:\u001b[0m\u001b]8;id=576817;file://C:\\Users\\Aleks\\AppData\\Roaming\\Python\\Python310\\site-packages\\soccerdata\\whoscored.py#400\u001b\\\u001b[2m400\u001b[0m\u001b]8;;\u001b\\\n"
      ]
     },
     "metadata": {},
     "output_type": "display_data"
    },
    {
     "data": {
      "text/html": [
       "<pre style=\"white-space:pre;overflow-x:auto;line-height:normal;font-family:Menlo,'DejaVu Sans Mono',consolas,'Courier New',monospace\"><span style=\"color: #7fbfbf; text-decoration-color: #7fbfbf\">                    </span><span style=\"color: #000080; text-decoration-color: #000080\">INFO    </span> <span style=\"font-weight: bold\">[</span><span style=\"color: #008080; text-decoration-color: #008080; font-weight: bold\">6</span>/<span style=\"color: #008080; text-decoration-color: #008080; font-weight: bold\">10</span><span style=\"font-weight: bold\">]</span> Retrieving fixtures for ENG-Premier League <span style=\"color: #008080; text-decoration-color: #008080; font-weight: bold\">2223</span>                <a href=\"file://C:\\Users\\Aleks\\AppData\\Roaming\\Python\\Python310\\site-packages\\soccerdata\\whoscored.py\" target=\"_blank\"><span style=\"color: #7f7f7f; text-decoration-color: #7f7f7f\">whoscored.py</span></a><span style=\"color: #7f7f7f; text-decoration-color: #7f7f7f\">:</span><a href=\"file://C:\\Users\\Aleks\\AppData\\Roaming\\Python\\Python310\\site-packages\\soccerdata\\whoscored.py#400\" target=\"_blank\"><span style=\"color: #7f7f7f; text-decoration-color: #7f7f7f\">400</span></a>\n",
       "</pre>\n"
      ],
      "text/plain": [
       "\u001b[2;36m                   \u001b[0m\u001b[2;36m \u001b[0m\u001b[34mINFO    \u001b[0m \u001b[1m[\u001b[0m\u001b[1;36m6\u001b[0m/\u001b[1;36m10\u001b[0m\u001b[1m]\u001b[0m Retrieving fixtures for ENG-Premier League \u001b[1;36m2223\u001b[0m                \u001b]8;id=654495;file://C:\\Users\\Aleks\\AppData\\Roaming\\Python\\Python310\\site-packages\\soccerdata\\whoscored.py\u001b\\\u001b[2mwhoscored.py\u001b[0m\u001b]8;;\u001b\\\u001b[2m:\u001b[0m\u001b]8;id=254628;file://C:\\Users\\Aleks\\AppData\\Roaming\\Python\\Python310\\site-packages\\soccerdata\\whoscored.py#400\u001b\\\u001b[2m400\u001b[0m\u001b]8;;\u001b\\\n"
      ]
     },
     "metadata": {},
     "output_type": "display_data"
    },
    {
     "data": {
      "text/html": [
       "<pre style=\"white-space:pre;overflow-x:auto;line-height:normal;font-family:Menlo,'DejaVu Sans Mono',consolas,'Courier New',monospace\"><span style=\"color: #7fbfbf; text-decoration-color: #7fbfbf\">                    </span><span style=\"color: #000080; text-decoration-color: #000080\">INFO    </span> <span style=\"font-weight: bold\">[</span><span style=\"color: #008080; text-decoration-color: #008080; font-weight: bold\">7</span>/<span style=\"color: #008080; text-decoration-color: #008080; font-weight: bold\">10</span><span style=\"font-weight: bold\">]</span> Retrieving fixtures for ENG-Premier League <span style=\"color: #008080; text-decoration-color: #008080; font-weight: bold\">2223</span>                <a href=\"file://C:\\Users\\Aleks\\AppData\\Roaming\\Python\\Python310\\site-packages\\soccerdata\\whoscored.py\" target=\"_blank\"><span style=\"color: #7f7f7f; text-decoration-color: #7f7f7f\">whoscored.py</span></a><span style=\"color: #7f7f7f; text-decoration-color: #7f7f7f\">:</span><a href=\"file://C:\\Users\\Aleks\\AppData\\Roaming\\Python\\Python310\\site-packages\\soccerdata\\whoscored.py#400\" target=\"_blank\"><span style=\"color: #7f7f7f; text-decoration-color: #7f7f7f\">400</span></a>\n",
       "</pre>\n"
      ],
      "text/plain": [
       "\u001b[2;36m                   \u001b[0m\u001b[2;36m \u001b[0m\u001b[34mINFO    \u001b[0m \u001b[1m[\u001b[0m\u001b[1;36m7\u001b[0m/\u001b[1;36m10\u001b[0m\u001b[1m]\u001b[0m Retrieving fixtures for ENG-Premier League \u001b[1;36m2223\u001b[0m                \u001b]8;id=407425;file://C:\\Users\\Aleks\\AppData\\Roaming\\Python\\Python310\\site-packages\\soccerdata\\whoscored.py\u001b\\\u001b[2mwhoscored.py\u001b[0m\u001b]8;;\u001b\\\u001b[2m:\u001b[0m\u001b]8;id=691753;file://C:\\Users\\Aleks\\AppData\\Roaming\\Python\\Python310\\site-packages\\soccerdata\\whoscored.py#400\u001b\\\u001b[2m400\u001b[0m\u001b]8;;\u001b\\\n"
      ]
     },
     "metadata": {},
     "output_type": "display_data"
    },
    {
     "data": {
      "text/html": [
       "<pre style=\"white-space:pre;overflow-x:auto;line-height:normal;font-family:Menlo,'DejaVu Sans Mono',consolas,'Courier New',monospace\"><span style=\"color: #7fbfbf; text-decoration-color: #7fbfbf\">                    </span><span style=\"color: #000080; text-decoration-color: #000080\">INFO    </span> <span style=\"font-weight: bold\">[</span><span style=\"color: #008080; text-decoration-color: #008080; font-weight: bold\">8</span>/<span style=\"color: #008080; text-decoration-color: #008080; font-weight: bold\">10</span><span style=\"font-weight: bold\">]</span> Retrieving fixtures for ENG-Premier League <span style=\"color: #008080; text-decoration-color: #008080; font-weight: bold\">2223</span>                <a href=\"file://C:\\Users\\Aleks\\AppData\\Roaming\\Python\\Python310\\site-packages\\soccerdata\\whoscored.py\" target=\"_blank\"><span style=\"color: #7f7f7f; text-decoration-color: #7f7f7f\">whoscored.py</span></a><span style=\"color: #7f7f7f; text-decoration-color: #7f7f7f\">:</span><a href=\"file://C:\\Users\\Aleks\\AppData\\Roaming\\Python\\Python310\\site-packages\\soccerdata\\whoscored.py#400\" target=\"_blank\"><span style=\"color: #7f7f7f; text-decoration-color: #7f7f7f\">400</span></a>\n",
       "</pre>\n"
      ],
      "text/plain": [
       "\u001b[2;36m                   \u001b[0m\u001b[2;36m \u001b[0m\u001b[34mINFO    \u001b[0m \u001b[1m[\u001b[0m\u001b[1;36m8\u001b[0m/\u001b[1;36m10\u001b[0m\u001b[1m]\u001b[0m Retrieving fixtures for ENG-Premier League \u001b[1;36m2223\u001b[0m                \u001b]8;id=376774;file://C:\\Users\\Aleks\\AppData\\Roaming\\Python\\Python310\\site-packages\\soccerdata\\whoscored.py\u001b\\\u001b[2mwhoscored.py\u001b[0m\u001b]8;;\u001b\\\u001b[2m:\u001b[0m\u001b]8;id=753038;file://C:\\Users\\Aleks\\AppData\\Roaming\\Python\\Python310\\site-packages\\soccerdata\\whoscored.py#400\u001b\\\u001b[2m400\u001b[0m\u001b]8;;\u001b\\\n"
      ]
     },
     "metadata": {},
     "output_type": "display_data"
    },
    {
     "data": {
      "text/html": [
       "<pre style=\"white-space:pre;overflow-x:auto;line-height:normal;font-family:Menlo,'DejaVu Sans Mono',consolas,'Courier New',monospace\"><span style=\"color: #7fbfbf; text-decoration-color: #7fbfbf\">                    </span><span style=\"color: #000080; text-decoration-color: #000080\">INFO    </span> <span style=\"font-weight: bold\">[</span><span style=\"color: #008080; text-decoration-color: #008080; font-weight: bold\">9</span>/<span style=\"color: #008080; text-decoration-color: #008080; font-weight: bold\">10</span><span style=\"font-weight: bold\">]</span> Retrieving fixtures for ENG-Premier League <span style=\"color: #008080; text-decoration-color: #008080; font-weight: bold\">2223</span>                <a href=\"file://C:\\Users\\Aleks\\AppData\\Roaming\\Python\\Python310\\site-packages\\soccerdata\\whoscored.py\" target=\"_blank\"><span style=\"color: #7f7f7f; text-decoration-color: #7f7f7f\">whoscored.py</span></a><span style=\"color: #7f7f7f; text-decoration-color: #7f7f7f\">:</span><a href=\"file://C:\\Users\\Aleks\\AppData\\Roaming\\Python\\Python310\\site-packages\\soccerdata\\whoscored.py#400\" target=\"_blank\"><span style=\"color: #7f7f7f; text-decoration-color: #7f7f7f\">400</span></a>\n",
       "</pre>\n"
      ],
      "text/plain": [
       "\u001b[2;36m                   \u001b[0m\u001b[2;36m \u001b[0m\u001b[34mINFO    \u001b[0m \u001b[1m[\u001b[0m\u001b[1;36m9\u001b[0m/\u001b[1;36m10\u001b[0m\u001b[1m]\u001b[0m Retrieving fixtures for ENG-Premier League \u001b[1;36m2223\u001b[0m                \u001b]8;id=519452;file://C:\\Users\\Aleks\\AppData\\Roaming\\Python\\Python310\\site-packages\\soccerdata\\whoscored.py\u001b\\\u001b[2mwhoscored.py\u001b[0m\u001b]8;;\u001b\\\u001b[2m:\u001b[0m\u001b]8;id=897494;file://C:\\Users\\Aleks\\AppData\\Roaming\\Python\\Python310\\site-packages\\soccerdata\\whoscored.py#400\u001b\\\u001b[2m400\u001b[0m\u001b]8;;\u001b\\\n"
      ]
     },
     "metadata": {},
     "output_type": "display_data"
    },
    {
     "data": {
      "text/html": [
       "<pre style=\"white-space:pre;overflow-x:auto;line-height:normal;font-family:Menlo,'DejaVu Sans Mono',consolas,'Courier New',monospace\"><span style=\"color: #7fbfbf; text-decoration-color: #7fbfbf\">                    </span><span style=\"color: #000080; text-decoration-color: #000080\">INFO    </span> <span style=\"font-weight: bold\">[</span><span style=\"color: #008080; text-decoration-color: #008080; font-weight: bold\">10</span>/<span style=\"color: #008080; text-decoration-color: #008080; font-weight: bold\">10</span><span style=\"font-weight: bold\">]</span> Retrieving fixtures for ENG-Premier League <span style=\"color: #008080; text-decoration-color: #008080; font-weight: bold\">2223</span>               <a href=\"file://C:\\Users\\Aleks\\AppData\\Roaming\\Python\\Python310\\site-packages\\soccerdata\\whoscored.py\" target=\"_blank\"><span style=\"color: #7f7f7f; text-decoration-color: #7f7f7f\">whoscored.py</span></a><span style=\"color: #7f7f7f; text-decoration-color: #7f7f7f\">:</span><a href=\"file://C:\\Users\\Aleks\\AppData\\Roaming\\Python\\Python310\\site-packages\\soccerdata\\whoscored.py#400\" target=\"_blank\"><span style=\"color: #7f7f7f; text-decoration-color: #7f7f7f\">400</span></a>\n",
       "</pre>\n"
      ],
      "text/plain": [
       "\u001b[2;36m                   \u001b[0m\u001b[2;36m \u001b[0m\u001b[34mINFO    \u001b[0m \u001b[1m[\u001b[0m\u001b[1;36m10\u001b[0m/\u001b[1;36m10\u001b[0m\u001b[1m]\u001b[0m Retrieving fixtures for ENG-Premier League \u001b[1;36m2223\u001b[0m               \u001b]8;id=683817;file://C:\\Users\\Aleks\\AppData\\Roaming\\Python\\Python310\\site-packages\\soccerdata\\whoscored.py\u001b\\\u001b[2mwhoscored.py\u001b[0m\u001b]8;;\u001b\\\u001b[2m:\u001b[0m\u001b]8;id=162744;file://C:\\Users\\Aleks\\AppData\\Roaming\\Python\\Python310\\site-packages\\soccerdata\\whoscored.py#400\u001b\\\u001b[2m400\u001b[0m\u001b]8;;\u001b\\\n"
      ]
     },
     "metadata": {},
     "output_type": "display_data"
    },
    {
     "data": {
      "text/html": [
       "<pre style=\"white-space:pre;overflow-x:auto;line-height:normal;font-family:Menlo,'DejaVu Sans Mono',consolas,'Courier New',monospace\"><span style=\"color: #7fbfbf; text-decoration-color: #7fbfbf\">                    </span><span style=\"color: #000080; text-decoration-color: #000080\">INFO    </span> <span style=\"font-weight: bold\">[</span><span style=\"color: #008080; text-decoration-color: #008080; font-weight: bold\">1</span>/<span style=\"color: #008080; text-decoration-color: #008080; font-weight: bold\">1</span><span style=\"font-weight: bold\">]</span> Retrieving game with <span style=\"color: #808000; text-decoration-color: #808000\">id</span>=<span style=\"color: #008080; text-decoration-color: #008080; font-weight: bold\">1640881</span>                                 <a href=\"file://C:\\Users\\Aleks\\AppData\\Roaming\\Python\\Python310\\site-packages\\soccerdata\\whoscored.py\" target=\"_blank\"><span style=\"color: #7f7f7f; text-decoration-color: #7f7f7f\">whoscored.py</span></a><span style=\"color: #7f7f7f; text-decoration-color: #7f7f7f\">:</span><a href=\"file://C:\\Users\\Aleks\\AppData\\Roaming\\Python\\Python310\\site-packages\\soccerdata\\whoscored.py#692\" target=\"_blank\"><span style=\"color: #7f7f7f; text-decoration-color: #7f7f7f\">692</span></a>\n",
       "</pre>\n"
      ],
      "text/plain": [
       "\u001b[2;36m                   \u001b[0m\u001b[2;36m \u001b[0m\u001b[34mINFO    \u001b[0m \u001b[1m[\u001b[0m\u001b[1;36m1\u001b[0m/\u001b[1;36m1\u001b[0m\u001b[1m]\u001b[0m Retrieving game with \u001b[33mid\u001b[0m=\u001b[1;36m1640881\u001b[0m                                 \u001b]8;id=242371;file://C:\\Users\\Aleks\\AppData\\Roaming\\Python\\Python310\\site-packages\\soccerdata\\whoscored.py\u001b\\\u001b[2mwhoscored.py\u001b[0m\u001b]8;;\u001b\\\u001b[2m:\u001b[0m\u001b]8;id=529145;file://C:\\Users\\Aleks\\AppData\\Roaming\\Python\\Python310\\site-packages\\soccerdata\\whoscored.py#692\u001b\\\u001b[2m692\u001b[0m\u001b]8;;\u001b\\\n"
      ]
     },
     "metadata": {},
     "output_type": "display_data"
    }
   ],
   "source": [
    "events = ws.read_events(match_id)"
   ]
  },
  {
   "cell_type": "code",
   "execution_count": 24,
   "metadata": {},
   "outputs": [],
   "source": [
    "xT = pd.read_csv(\"https://raw.githubusercontent.com/AKapich/WorldCup_App/main/app/xT_Grid.csv\", header=None)\n",
    "xT = np.array(xT)\n",
    "xT_rows, xT_cols = xT.shape "
   ]
  },
  {
   "cell_type": "code",
   "execution_count": 33,
   "metadata": {},
   "outputs": [
    {
     "data": {
      "text/plain": [
       "type\n",
       "Pass         1145\n",
       "Clearance      25\n",
       "Name: count, dtype: int64"
      ]
     },
     "execution_count": 33,
     "metadata": {},
     "output_type": "execute_result"
    }
   ],
   "source": [
    "events[events['end_x'].notna()]"
   ]
  },
  {
   "cell_type": "code",
   "execution_count": 28,
   "metadata": {},
   "outputs": [
    {
     "data": {
      "text/plain": [
       "type\n",
       "Pass               1145\n",
       "BallRecovery         94\n",
       "BallTouch            57\n",
       "TakeOn               39\n",
       "Tackle               31\n",
       "Clearance            29\n",
       "Aerial               28\n",
       "Foul                 28\n",
       "Challenge            20\n",
       "CornerAwarded        20\n",
       "Dispossessed         16\n",
       "Interception         13\n",
       "BlockedPass          13\n",
       "SavedShot            12\n",
       "Save                 12\n",
       "SubstitutionOff       9\n",
       "SubstitutionOn        9\n",
       "KeeperPickup          8\n",
       "MissedShots           7\n",
       "End                   6\n",
       "Start                 4\n",
       "Goal                  4\n",
       "Card                  3\n",
       "FormationSet          2\n",
       "ShieldBallOpp         2\n",
       "PenaltyFaced          1\n",
       "Claim                 1\n",
       "FormationChange       1\n",
       "Smother               1\n",
       "Name: count, dtype: int64"
      ]
     },
     "execution_count": 28,
     "metadata": {},
     "output_type": "execute_result"
    }
   ],
   "source": [
    "events['type'].value_counts()"
   ]
  },
  {
   "cell_type": "code",
   "execution_count": 37,
   "metadata": {},
   "outputs": [],
   "source": [
    "def get_xT(type):\n",
    "    df = events[events['type']==type][events['end_x'].notna()]\n",
    "\n",
    "    df[f'start_x_bin'] = pd.cut(df['x'], bins=xT_cols, labels=False)\n",
    "    df[f'start_y_bin'] = pd.cut(df['y'], bins=xT_rows, labels=False)\n",
    "    df[f'end_x_bin'] = pd.cut(df['end_x'], bins=xT_cols, labels=False)\n",
    "    df[f'end_y_bin'] = pd.cut(df['end_x'], bins=xT_rows, labels=False)\n",
    "    df['start_zone_value'] = df[[f'start_x_bin', f'start_y_bin']].apply(lambda z: xT[z[1]][z[0]], axis=1)\n",
    "    df['end_zone_value'] = df[[f'end_x_bin', f'end_y_bin']].apply(lambda z: xT[z[1]][z[0]], axis=1)\n",
    "    df['xT'] = df['start_zone_value']-df['end_zone_value']\n",
    "\n",
    "    return df[['xT', 'minute', 'second', 'team', 'type']]\n",
    "\n",
    "xtdf = pd.concat([get_xT('Pass'), get_xT('Clearance')], axis=0)"
   ]
  },
  {
   "cell_type": "code",
   "execution_count": 45,
   "metadata": {},
   "outputs": [],
   "source": [
    "xtdf['timestamp'] = xtdf['minute'] + xtdf['second']/60\n",
    "xtdf = xtdf.sort_values('timestamp')"
   ]
  },
  {
   "cell_type": "code",
   "execution_count": 46,
   "metadata": {},
   "outputs": [
    {
     "data": {
      "text/html": [
       "<div>\n",
       "<style scoped>\n",
       "    .dataframe tbody tr th:only-of-type {\n",
       "        vertical-align: middle;\n",
       "    }\n",
       "\n",
       "    .dataframe tbody tr th {\n",
       "        vertical-align: top;\n",
       "    }\n",
       "\n",
       "    .dataframe thead th {\n",
       "        text-align: right;\n",
       "    }\n",
       "</style>\n",
       "<table border=\"1\" class=\"dataframe\">\n",
       "  <thead>\n",
       "    <tr style=\"text-align: right;\">\n",
       "      <th></th>\n",
       "      <th></th>\n",
       "      <th></th>\n",
       "      <th></th>\n",
       "      <th>xT</th>\n",
       "      <th>minute</th>\n",
       "      <th>second</th>\n",
       "      <th>team</th>\n",
       "      <th>type</th>\n",
       "      <th>timestamp</th>\n",
       "    </tr>\n",
       "    <tr>\n",
       "      <th>league</th>\n",
       "      <th>season</th>\n",
       "      <th>game</th>\n",
       "      <th>id</th>\n",
       "      <th></th>\n",
       "      <th></th>\n",
       "      <th></th>\n",
       "      <th></th>\n",
       "      <th></th>\n",
       "      <th></th>\n",
       "    </tr>\n",
       "  </thead>\n",
       "  <tbody>\n",
       "    <tr>\n",
       "      <th rowspan=\"11\" valign=\"top\">ENG-Premier League</th>\n",
       "      <th rowspan=\"11\" valign=\"top\">2223</th>\n",
       "      <th rowspan=\"11\" valign=\"top\">2023-03-04 Brighton-West Ham</th>\n",
       "      <th>2515069895</th>\n",
       "      <td>0.003741</td>\n",
       "      <td>0</td>\n",
       "      <td>0</td>\n",
       "      <td>West Ham</td>\n",
       "      <td>Pass</td>\n",
       "      <td>0.000000</td>\n",
       "    </tr>\n",
       "    <tr>\n",
       "      <th>2515069905</th>\n",
       "      <td>0.000219</td>\n",
       "      <td>0</td>\n",
       "      <td>2</td>\n",
       "      <td>West Ham</td>\n",
       "      <td>Pass</td>\n",
       "      <td>0.033333</td>\n",
       "    </tr>\n",
       "    <tr>\n",
       "      <th>2515070017</th>\n",
       "      <td>0.001587</td>\n",
       "      <td>0</td>\n",
       "      <td>6</td>\n",
       "      <td>West Ham</td>\n",
       "      <td>Pass</td>\n",
       "      <td>0.100000</td>\n",
       "    </tr>\n",
       "    <tr>\n",
       "      <th>2515070135</th>\n",
       "      <td>0.001628</td>\n",
       "      <td>0</td>\n",
       "      <td>11</td>\n",
       "      <td>West Ham</td>\n",
       "      <td>Pass</td>\n",
       "      <td>0.183333</td>\n",
       "    </tr>\n",
       "    <tr>\n",
       "      <th>2515070175</th>\n",
       "      <td>-0.006068</td>\n",
       "      <td>0</td>\n",
       "      <td>19</td>\n",
       "      <td>West Ham</td>\n",
       "      <td>Pass</td>\n",
       "      <td>0.316667</td>\n",
       "    </tr>\n",
       "    <tr>\n",
       "      <th>...</th>\n",
       "      <td>...</td>\n",
       "      <td>...</td>\n",
       "      <td>...</td>\n",
       "      <td>...</td>\n",
       "      <td>...</td>\n",
       "      <td>...</td>\n",
       "    </tr>\n",
       "    <tr>\n",
       "      <th>2515302087</th>\n",
       "      <td>-0.004505</td>\n",
       "      <td>92</td>\n",
       "      <td>13</td>\n",
       "      <td>Brighton</td>\n",
       "      <td>Pass</td>\n",
       "      <td>92.216667</td>\n",
       "    </tr>\n",
       "    <tr>\n",
       "      <th>2515302169</th>\n",
       "      <td>-0.000619</td>\n",
       "      <td>92</td>\n",
       "      <td>14</td>\n",
       "      <td>Brighton</td>\n",
       "      <td>Pass</td>\n",
       "      <td>92.233333</td>\n",
       "    </tr>\n",
       "    <tr>\n",
       "      <th>2515303185</th>\n",
       "      <td>-0.007485</td>\n",
       "      <td>92</td>\n",
       "      <td>47</td>\n",
       "      <td>West Ham</td>\n",
       "      <td>Pass</td>\n",
       "      <td>92.783333</td>\n",
       "    </tr>\n",
       "    <tr>\n",
       "      <th>2515307891</th>\n",
       "      <td>-0.000479</td>\n",
       "      <td>92</td>\n",
       "      <td>50</td>\n",
       "      <td>Brighton</td>\n",
       "      <td>Pass</td>\n",
       "      <td>92.833333</td>\n",
       "    </tr>\n",
       "    <tr>\n",
       "      <th>2515303811</th>\n",
       "      <td>0.001379</td>\n",
       "      <td>93</td>\n",
       "      <td>7</td>\n",
       "      <td>Brighton</td>\n",
       "      <td>Pass</td>\n",
       "      <td>93.116667</td>\n",
       "    </tr>\n",
       "  </tbody>\n",
       "</table>\n",
       "<p>1170 rows × 6 columns</p>\n",
       "</div>"
      ],
      "text/plain": [
       "                                                                         xT  \\\n",
       "league             season game                         id                     \n",
       "ENG-Premier League 2223   2023-03-04 Brighton-West Ham 2515069895  0.003741   \n",
       "                                                       2515069905  0.000219   \n",
       "                                                       2515070017  0.001587   \n",
       "                                                       2515070135  0.001628   \n",
       "                                                       2515070175 -0.006068   \n",
       "...                                                                     ...   \n",
       "                                                       2515302087 -0.004505   \n",
       "                                                       2515302169 -0.000619   \n",
       "                                                       2515303185 -0.007485   \n",
       "                                                       2515307891 -0.000479   \n",
       "                                                       2515303811  0.001379   \n",
       "\n",
       "                                                                   minute  \\\n",
       "league             season game                         id                   \n",
       "ENG-Premier League 2223   2023-03-04 Brighton-West Ham 2515069895       0   \n",
       "                                                       2515069905       0   \n",
       "                                                       2515070017       0   \n",
       "                                                       2515070135       0   \n",
       "                                                       2515070175       0   \n",
       "...                                                                   ...   \n",
       "                                                       2515302087      92   \n",
       "                                                       2515302169      92   \n",
       "                                                       2515303185      92   \n",
       "                                                       2515307891      92   \n",
       "                                                       2515303811      93   \n",
       "\n",
       "                                                                   second  \\\n",
       "league             season game                         id                   \n",
       "ENG-Premier League 2223   2023-03-04 Brighton-West Ham 2515069895       0   \n",
       "                                                       2515069905       2   \n",
       "                                                       2515070017       6   \n",
       "                                                       2515070135      11   \n",
       "                                                       2515070175      19   \n",
       "...                                                                   ...   \n",
       "                                                       2515302087      13   \n",
       "                                                       2515302169      14   \n",
       "                                                       2515303185      47   \n",
       "                                                       2515307891      50   \n",
       "                                                       2515303811       7   \n",
       "\n",
       "                                                                       team  \\\n",
       "league             season game                         id                     \n",
       "ENG-Premier League 2223   2023-03-04 Brighton-West Ham 2515069895  West Ham   \n",
       "                                                       2515069905  West Ham   \n",
       "                                                       2515070017  West Ham   \n",
       "                                                       2515070135  West Ham   \n",
       "                                                       2515070175  West Ham   \n",
       "...                                                                     ...   \n",
       "                                                       2515302087  Brighton   \n",
       "                                                       2515302169  Brighton   \n",
       "                                                       2515303185  West Ham   \n",
       "                                                       2515307891  Brighton   \n",
       "                                                       2515303811  Brighton   \n",
       "\n",
       "                                                                   type  \\\n",
       "league             season game                         id                 \n",
       "ENG-Premier League 2223   2023-03-04 Brighton-West Ham 2515069895  Pass   \n",
       "                                                       2515069905  Pass   \n",
       "                                                       2515070017  Pass   \n",
       "                                                       2515070135  Pass   \n",
       "                                                       2515070175  Pass   \n",
       "...                                                                 ...   \n",
       "                                                       2515302087  Pass   \n",
       "                                                       2515302169  Pass   \n",
       "                                                       2515303185  Pass   \n",
       "                                                       2515307891  Pass   \n",
       "                                                       2515303811  Pass   \n",
       "\n",
       "                                                                   timestamp  \n",
       "league             season game                         id                     \n",
       "ENG-Premier League 2223   2023-03-04 Brighton-West Ham 2515069895   0.000000  \n",
       "                                                       2515069905   0.033333  \n",
       "                                                       2515070017   0.100000  \n",
       "                                                       2515070135   0.183333  \n",
       "                                                       2515070175   0.316667  \n",
       "...                                                                      ...  \n",
       "                                                       2515302087  92.216667  \n",
       "                                                       2515302169  92.233333  \n",
       "                                                       2515303185  92.783333  \n",
       "                                                       2515307891  92.833333  \n",
       "                                                       2515303811  93.116667  \n",
       "\n",
       "[1170 rows x 6 columns]"
      ]
     },
     "execution_count": 46,
     "metadata": {},
     "output_type": "execute_result"
    }
   ],
   "source": [
    "xtdf"
   ]
  },
  {
   "cell_type": "code",
   "execution_count": 90,
   "metadata": {},
   "outputs": [],
   "source": [
    "home_team, away_team = 'West Ham', 'Brighton'\n",
    "xtdf['momentum'] = 0\n",
    "\n",
    "for idx, row in xtdf.iterrows():\n",
    "    timestamp = row['timestamp']\n",
    "    recent_events = xtdf[(xtdf['timestamp']<timestamp) & (xtdf['timestamp']>=timestamp-3)]\n",
    "    momentum = (1 if row['team']==home_team else -1) * row['xT']\n",
    "    for _, event in recent_events.iterrows():\n",
    "        momentum += (1 if event['team']==home_team else -1) * event['xT'] * min(1/timestamp-event['timestamp'], 0.1)\n",
    "    xtdf.loc[idx, 'momentum'] = momentum\n",
    "    "
   ]
  },
  {
   "cell_type": "code",
   "execution_count": 91,
   "metadata": {},
   "outputs": [
    {
     "data": {
      "text/html": [
       "<div>\n",
       "<style scoped>\n",
       "    .dataframe tbody tr th:only-of-type {\n",
       "        vertical-align: middle;\n",
       "    }\n",
       "\n",
       "    .dataframe tbody tr th {\n",
       "        vertical-align: top;\n",
       "    }\n",
       "\n",
       "    .dataframe thead th {\n",
       "        text-align: right;\n",
       "    }\n",
       "</style>\n",
       "<table border=\"1\" class=\"dataframe\">\n",
       "  <thead>\n",
       "    <tr style=\"text-align: right;\">\n",
       "      <th></th>\n",
       "      <th></th>\n",
       "      <th></th>\n",
       "      <th></th>\n",
       "      <th>xT</th>\n",
       "      <th>minute</th>\n",
       "      <th>second</th>\n",
       "      <th>team</th>\n",
       "      <th>type</th>\n",
       "      <th>timestamp</th>\n",
       "      <th>momentum</th>\n",
       "    </tr>\n",
       "    <tr>\n",
       "      <th>league</th>\n",
       "      <th>season</th>\n",
       "      <th>game</th>\n",
       "      <th>id</th>\n",
       "      <th></th>\n",
       "      <th></th>\n",
       "      <th></th>\n",
       "      <th></th>\n",
       "      <th></th>\n",
       "      <th></th>\n",
       "      <th></th>\n",
       "    </tr>\n",
       "  </thead>\n",
       "  <tbody>\n",
       "    <tr>\n",
       "      <th rowspan=\"11\" valign=\"top\">ENG-Premier League</th>\n",
       "      <th rowspan=\"11\" valign=\"top\">2223</th>\n",
       "      <th rowspan=\"11\" valign=\"top\">2023-03-04 Brighton-West Ham</th>\n",
       "      <th>2515069895</th>\n",
       "      <td>0.003741</td>\n",
       "      <td>0</td>\n",
       "      <td>0</td>\n",
       "      <td>West Ham</td>\n",
       "      <td>Pass</td>\n",
       "      <td>0.000000</td>\n",
       "      <td>0.003741</td>\n",
       "    </tr>\n",
       "    <tr>\n",
       "      <th>2515069905</th>\n",
       "      <td>0.000219</td>\n",
       "      <td>0</td>\n",
       "      <td>2</td>\n",
       "      <td>West Ham</td>\n",
       "      <td>Pass</td>\n",
       "      <td>0.033333</td>\n",
       "      <td>0.000593</td>\n",
       "    </tr>\n",
       "    <tr>\n",
       "      <th>2515070017</th>\n",
       "      <td>0.001587</td>\n",
       "      <td>0</td>\n",
       "      <td>6</td>\n",
       "      <td>West Ham</td>\n",
       "      <td>Pass</td>\n",
       "      <td>0.100000</td>\n",
       "      <td>0.001983</td>\n",
       "    </tr>\n",
       "    <tr>\n",
       "      <th>2515070135</th>\n",
       "      <td>0.001628</td>\n",
       "      <td>0</td>\n",
       "      <td>11</td>\n",
       "      <td>West Ham</td>\n",
       "      <td>Pass</td>\n",
       "      <td>0.183333</td>\n",
       "      <td>0.002182</td>\n",
       "    </tr>\n",
       "    <tr>\n",
       "      <th>2515070175</th>\n",
       "      <td>-0.006068</td>\n",
       "      <td>0</td>\n",
       "      <td>19</td>\n",
       "      <td>West Ham</td>\n",
       "      <td>Pass</td>\n",
       "      <td>0.316667</td>\n",
       "      <td>-0.005351</td>\n",
       "    </tr>\n",
       "    <tr>\n",
       "      <th>...</th>\n",
       "      <td>...</td>\n",
       "      <td>...</td>\n",
       "      <td>...</td>\n",
       "      <td>...</td>\n",
       "      <td>...</td>\n",
       "      <td>...</td>\n",
       "      <td>...</td>\n",
       "    </tr>\n",
       "    <tr>\n",
       "      <th>2515302087</th>\n",
       "      <td>-0.004505</td>\n",
       "      <td>92</td>\n",
       "      <td>13</td>\n",
       "      <td>Brighton</td>\n",
       "      <td>Pass</td>\n",
       "      <td>92.216667</td>\n",
       "      <td>2.423028</td>\n",
       "    </tr>\n",
       "    <tr>\n",
       "      <th>2515302169</th>\n",
       "      <td>-0.000619</td>\n",
       "      <td>92</td>\n",
       "      <td>14</td>\n",
       "      <td>Brighton</td>\n",
       "      <td>Pass</td>\n",
       "      <td>92.233333</td>\n",
       "      <td>2.003723</td>\n",
       "    </tr>\n",
       "    <tr>\n",
       "      <th>2515303185</th>\n",
       "      <td>-0.007485</td>\n",
       "      <td>92</td>\n",
       "      <td>47</td>\n",
       "      <td>West Ham</td>\n",
       "      <td>Pass</td>\n",
       "      <td>92.783333</td>\n",
       "      <td>1.938500</td>\n",
       "    </tr>\n",
       "    <tr>\n",
       "      <th>2515307891</th>\n",
       "      <td>-0.000479</td>\n",
       "      <td>92</td>\n",
       "      <td>50</td>\n",
       "      <td>Brighton</td>\n",
       "      <td>Pass</td>\n",
       "      <td>92.833333</td>\n",
       "      <td>2.976774</td>\n",
       "    </tr>\n",
       "    <tr>\n",
       "      <th>2515303811</th>\n",
       "      <td>0.001379</td>\n",
       "      <td>93</td>\n",
       "      <td>7</td>\n",
       "      <td>Brighton</td>\n",
       "      <td>Pass</td>\n",
       "      <td>93.116667</td>\n",
       "      <td>2.843676</td>\n",
       "    </tr>\n",
       "  </tbody>\n",
       "</table>\n",
       "<p>1170 rows × 7 columns</p>\n",
       "</div>"
      ],
      "text/plain": [
       "                                                                         xT  \\\n",
       "league             season game                         id                     \n",
       "ENG-Premier League 2223   2023-03-04 Brighton-West Ham 2515069895  0.003741   \n",
       "                                                       2515069905  0.000219   \n",
       "                                                       2515070017  0.001587   \n",
       "                                                       2515070135  0.001628   \n",
       "                                                       2515070175 -0.006068   \n",
       "...                                                                     ...   \n",
       "                                                       2515302087 -0.004505   \n",
       "                                                       2515302169 -0.000619   \n",
       "                                                       2515303185 -0.007485   \n",
       "                                                       2515307891 -0.000479   \n",
       "                                                       2515303811  0.001379   \n",
       "\n",
       "                                                                   minute  \\\n",
       "league             season game                         id                   \n",
       "ENG-Premier League 2223   2023-03-04 Brighton-West Ham 2515069895       0   \n",
       "                                                       2515069905       0   \n",
       "                                                       2515070017       0   \n",
       "                                                       2515070135       0   \n",
       "                                                       2515070175       0   \n",
       "...                                                                   ...   \n",
       "                                                       2515302087      92   \n",
       "                                                       2515302169      92   \n",
       "                                                       2515303185      92   \n",
       "                                                       2515307891      92   \n",
       "                                                       2515303811      93   \n",
       "\n",
       "                                                                   second  \\\n",
       "league             season game                         id                   \n",
       "ENG-Premier League 2223   2023-03-04 Brighton-West Ham 2515069895       0   \n",
       "                                                       2515069905       2   \n",
       "                                                       2515070017       6   \n",
       "                                                       2515070135      11   \n",
       "                                                       2515070175      19   \n",
       "...                                                                   ...   \n",
       "                                                       2515302087      13   \n",
       "                                                       2515302169      14   \n",
       "                                                       2515303185      47   \n",
       "                                                       2515307891      50   \n",
       "                                                       2515303811       7   \n",
       "\n",
       "                                                                       team  \\\n",
       "league             season game                         id                     \n",
       "ENG-Premier League 2223   2023-03-04 Brighton-West Ham 2515069895  West Ham   \n",
       "                                                       2515069905  West Ham   \n",
       "                                                       2515070017  West Ham   \n",
       "                                                       2515070135  West Ham   \n",
       "                                                       2515070175  West Ham   \n",
       "...                                                                     ...   \n",
       "                                                       2515302087  Brighton   \n",
       "                                                       2515302169  Brighton   \n",
       "                                                       2515303185  West Ham   \n",
       "                                                       2515307891  Brighton   \n",
       "                                                       2515303811  Brighton   \n",
       "\n",
       "                                                                   type  \\\n",
       "league             season game                         id                 \n",
       "ENG-Premier League 2223   2023-03-04 Brighton-West Ham 2515069895  Pass   \n",
       "                                                       2515069905  Pass   \n",
       "                                                       2515070017  Pass   \n",
       "                                                       2515070135  Pass   \n",
       "                                                       2515070175  Pass   \n",
       "...                                                                 ...   \n",
       "                                                       2515302087  Pass   \n",
       "                                                       2515302169  Pass   \n",
       "                                                       2515303185  Pass   \n",
       "                                                       2515307891  Pass   \n",
       "                                                       2515303811  Pass   \n",
       "\n",
       "                                                                   timestamp  \\\n",
       "league             season game                         id                      \n",
       "ENG-Premier League 2223   2023-03-04 Brighton-West Ham 2515069895   0.000000   \n",
       "                                                       2515069905   0.033333   \n",
       "                                                       2515070017   0.100000   \n",
       "                                                       2515070135   0.183333   \n",
       "                                                       2515070175   0.316667   \n",
       "...                                                                      ...   \n",
       "                                                       2515302087  92.216667   \n",
       "                                                       2515302169  92.233333   \n",
       "                                                       2515303185  92.783333   \n",
       "                                                       2515307891  92.833333   \n",
       "                                                       2515303811  93.116667   \n",
       "\n",
       "                                                                   momentum  \n",
       "league             season game                         id                    \n",
       "ENG-Premier League 2223   2023-03-04 Brighton-West Ham 2515069895  0.003741  \n",
       "                                                       2515069905  0.000593  \n",
       "                                                       2515070017  0.001983  \n",
       "                                                       2515070135  0.002182  \n",
       "                                                       2515070175 -0.005351  \n",
       "...                                                                     ...  \n",
       "                                                       2515302087  2.423028  \n",
       "                                                       2515302169  2.003723  \n",
       "                                                       2515303185  1.938500  \n",
       "                                                       2515307891  2.976774  \n",
       "                                                       2515303811  2.843676  \n",
       "\n",
       "[1170 rows x 7 columns]"
      ]
     },
     "execution_count": 91,
     "metadata": {},
     "output_type": "execute_result"
    }
   ],
   "source": [
    "xtdf"
   ]
  },
  {
   "cell_type": "code",
   "execution_count": 92,
   "metadata": {},
   "outputs": [
    {
     "data": {
      "text/plain": [
       "<matplotlib.collections.PolyCollection at 0x1910a0df670>"
      ]
     },
     "execution_count": 92,
     "metadata": {},
     "output_type": "execute_result"
    },
    {
     "data": {
      "image/png": "[encoded data removed]",
      "text/plain": [
       "<Figure size 640x480 with 1 Axes>"
      ]
     },
     "metadata": {},
     "output_type": "display_data"
    }
   ],
   "source": [
    "# plt.plot(xtdf['timestamp'], xtdf['momentum'], label='Momentum', color='b', lw=2)\n",
    "plt.fill_between(xtdf['timestamp'], xtdf['momentum'], where=(xtdf['momentum'] > 0), color='blue', alpha=0.3)\n",
    "plt.fill_between(xtdf['timestamp'], xtdf['momentum'], where=(xtdf['momentum'] < 0), color='red', alpha=0.3)"
   ]
  },
  {
   "cell_type": "code",
   "execution_count": 78,
   "metadata": {},
   "outputs": [],
   "source": [
    "from scipy.ndimage import gaussian_filter1d"
   ]
  },
  {
   "cell_type": "code",
   "execution_count": 82,
   "metadata": {},
   "outputs": [
    {
     "data": {
      "text/plain": [
       "<matplotlib.collections.PolyCollection at 0x1917f70d4b0>"
      ]
     },
     "execution_count": 82,
     "metadata": {},
     "output_type": "execute_result"
    },
    {
     "data": {
      "image/png": "[encoded data removed]",
      "text/plain": [
       "<Figure size 1200x600 with 1 Axes>"
      ]
     },
     "metadata": {},
     "output_type": "display_data"
    }
   ],
   "source": [
    "smoothed_momentum = gaussian_filter1d(xtdf['momentum'], sigma=2)\n",
    "\n",
    "# Create the plot\n",
    "plt.figure(figsize=(12, 6))\n",
    "\n",
    "# Plot the filled areas for positive and negative momentum\n",
    "plt.fill_between(xtdf['timestamp'], smoothed_momentum, where=(smoothed_momentum > 0), color='blue', alpha=0.3)\n",
    "plt.fill_between(xtdf['timestamp'], smoothed_momentum, where=(smoothed_momentum < 0), color='red', alpha=0.3)\n",
    "\n"
   ]
  },
  {
   "cell_type": "code",
   "execution_count": 94,
   "metadata": {},
   "outputs": [],
   "source": [
    "# Novel approach"
   ]
  },
  {
   "cell_type": "code",
   "execution_count": 97,
   "metadata": {},
   "outputs": [
    {
     "data": {
      "text/html": [
       "<div>\n",
       "<style scoped>\n",
       "    .dataframe tbody tr th:only-of-type {\n",
       "        vertical-align: middle;\n",
       "    }\n",
       "\n",
       "    .dataframe tbody tr th {\n",
       "        vertical-align: top;\n",
       "    }\n",
       "\n",
       "    .dataframe thead th {\n",
       "        text-align: right;\n",
       "    }\n",
       "</style>\n",
       "<table border=\"1\" class=\"dataframe\">\n",
       "  <thead>\n",
       "    <tr style=\"text-align: right;\">\n",
       "      <th></th>\n",
       "      <th></th>\n",
       "      <th></th>\n",
       "      <th></th>\n",
       "      <th>xT</th>\n",
       "      <th>minute</th>\n",
       "      <th>second</th>\n",
       "      <th>team</th>\n",
       "      <th>type</th>\n",
       "      <th>timestamp</th>\n",
       "    </tr>\n",
       "    <tr>\n",
       "      <th>league</th>\n",
       "      <th>season</th>\n",
       "      <th>game</th>\n",
       "      <th>id</th>\n",
       "      <th></th>\n",
       "      <th></th>\n",
       "      <th></th>\n",
       "      <th></th>\n",
       "      <th></th>\n",
       "      <th></th>\n",
       "    </tr>\n",
       "  </thead>\n",
       "  <tbody>\n",
       "    <tr>\n",
       "      <th rowspan=\"11\" valign=\"top\">ENG-Premier League</th>\n",
       "      <th rowspan=\"11\" valign=\"top\">2223</th>\n",
       "      <th rowspan=\"11\" valign=\"top\">2023-03-04 Brighton-West Ham</th>\n",
       "      <th>2515069895</th>\n",
       "      <td>0.003741</td>\n",
       "      <td>0</td>\n",
       "      <td>0</td>\n",
       "      <td>West Ham</td>\n",
       "      <td>Pass</td>\n",
       "      <td>0.000000</td>\n",
       "    </tr>\n",
       "    <tr>\n",
       "      <th>2515069905</th>\n",
       "      <td>0.000219</td>\n",
       "      <td>0</td>\n",
       "      <td>2</td>\n",
       "      <td>West Ham</td>\n",
       "      <td>Pass</td>\n",
       "      <td>0.033333</td>\n",
       "    </tr>\n",
       "    <tr>\n",
       "      <th>2515070017</th>\n",
       "      <td>0.001587</td>\n",
       "      <td>0</td>\n",
       "      <td>6</td>\n",
       "      <td>West Ham</td>\n",
       "      <td>Pass</td>\n",
       "      <td>0.100000</td>\n",
       "    </tr>\n",
       "    <tr>\n",
       "      <th>2515070135</th>\n",
       "      <td>0.001628</td>\n",
       "      <td>0</td>\n",
       "      <td>11</td>\n",
       "      <td>West Ham</td>\n",
       "      <td>Pass</td>\n",
       "      <td>0.183333</td>\n",
       "    </tr>\n",
       "    <tr>\n",
       "      <th>2515070175</th>\n",
       "      <td>-0.006068</td>\n",
       "      <td>0</td>\n",
       "      <td>19</td>\n",
       "      <td>West Ham</td>\n",
       "      <td>Pass</td>\n",
       "      <td>0.316667</td>\n",
       "    </tr>\n",
       "    <tr>\n",
       "      <th>...</th>\n",
       "      <td>...</td>\n",
       "      <td>...</td>\n",
       "      <td>...</td>\n",
       "      <td>...</td>\n",
       "      <td>...</td>\n",
       "      <td>...</td>\n",
       "    </tr>\n",
       "    <tr>\n",
       "      <th>2515302087</th>\n",
       "      <td>-0.004505</td>\n",
       "      <td>92</td>\n",
       "      <td>13</td>\n",
       "      <td>Brighton</td>\n",
       "      <td>Pass</td>\n",
       "      <td>92.216667</td>\n",
       "    </tr>\n",
       "    <tr>\n",
       "      <th>2515302169</th>\n",
       "      <td>-0.000619</td>\n",
       "      <td>92</td>\n",
       "      <td>14</td>\n",
       "      <td>Brighton</td>\n",
       "      <td>Pass</td>\n",
       "      <td>92.233333</td>\n",
       "    </tr>\n",
       "    <tr>\n",
       "      <th>2515303185</th>\n",
       "      <td>-0.007485</td>\n",
       "      <td>92</td>\n",
       "      <td>47</td>\n",
       "      <td>West Ham</td>\n",
       "      <td>Pass</td>\n",
       "      <td>92.783333</td>\n",
       "    </tr>\n",
       "    <tr>\n",
       "      <th>2515307891</th>\n",
       "      <td>-0.000479</td>\n",
       "      <td>92</td>\n",
       "      <td>50</td>\n",
       "      <td>Brighton</td>\n",
       "      <td>Pass</td>\n",
       "      <td>92.833333</td>\n",
       "    </tr>\n",
       "    <tr>\n",
       "      <th>2515303811</th>\n",
       "      <td>0.001379</td>\n",
       "      <td>93</td>\n",
       "      <td>7</td>\n",
       "      <td>Brighton</td>\n",
       "      <td>Pass</td>\n",
       "      <td>93.116667</td>\n",
       "    </tr>\n",
       "  </tbody>\n",
       "</table>\n",
       "<p>1170 rows × 6 columns</p>\n",
       "</div>"
      ],
      "text/plain": [
       "                                                                         xT  \\\n",
       "league             season game                         id                     \n",
       "ENG-Premier League 2223   2023-03-04 Brighton-West Ham 2515069895  0.003741   \n",
       "                                                       2515069905  0.000219   \n",
       "                                                       2515070017  0.001587   \n",
       "                                                       2515070135  0.001628   \n",
       "                                                       2515070175 -0.006068   \n",
       "...                                                                     ...   \n",
       "                                                       2515302087 -0.004505   \n",
       "                                                       2515302169 -0.000619   \n",
       "                                                       2515303185 -0.007485   \n",
       "                                                       2515307891 -0.000479   \n",
       "                                                       2515303811  0.001379   \n",
       "\n",
       "                                                                   minute  \\\n",
       "league             season game                         id                   \n",
       "ENG-Premier League 2223   2023-03-04 Brighton-West Ham 2515069895       0   \n",
       "                                                       2515069905       0   \n",
       "                                                       2515070017       0   \n",
       "                                                       2515070135       0   \n",
       "                                                       2515070175       0   \n",
       "...                                                                   ...   \n",
       "                                                       2515302087      92   \n",
       "                                                       2515302169      92   \n",
       "                                                       2515303185      92   \n",
       "                                                       2515307891      92   \n",
       "                                                       2515303811      93   \n",
       "\n",
       "                                                                   second  \\\n",
       "league             season game                         id                   \n",
       "ENG-Premier League 2223   2023-03-04 Brighton-West Ham 2515069895       0   \n",
       "                                                       2515069905       2   \n",
       "                                                       2515070017       6   \n",
       "                                                       2515070135      11   \n",
       "                                                       2515070175      19   \n",
       "...                                                                   ...   \n",
       "                                                       2515302087      13   \n",
       "                                                       2515302169      14   \n",
       "                                                       2515303185      47   \n",
       "                                                       2515307891      50   \n",
       "                                                       2515303811       7   \n",
       "\n",
       "                                                                       team  \\\n",
       "league             season game                         id                     \n",
       "ENG-Premier League 2223   2023-03-04 Brighton-West Ham 2515069895  West Ham   \n",
       "                                                       2515069905  West Ham   \n",
       "                                                       2515070017  West Ham   \n",
       "                                                       2515070135  West Ham   \n",
       "                                                       2515070175  West Ham   \n",
       "...                                                                     ...   \n",
       "                                                       2515302087  Brighton   \n",
       "                                                       2515302169  Brighton   \n",
       "                                                       2515303185  West Ham   \n",
       "                                                       2515307891  Brighton   \n",
       "                                                       2515303811  Brighton   \n",
       "\n",
       "                                                                   type  \\\n",
       "league             season game                         id                 \n",
       "ENG-Premier League 2223   2023-03-04 Brighton-West Ham 2515069895  Pass   \n",
       "                                                       2515069905  Pass   \n",
       "                                                       2515070017  Pass   \n",
       "                                                       2515070135  Pass   \n",
       "                                                       2515070175  Pass   \n",
       "...                                                                 ...   \n",
       "                                                       2515302087  Pass   \n",
       "                                                       2515302169  Pass   \n",
       "                                                       2515303185  Pass   \n",
       "                                                       2515307891  Pass   \n",
       "                                                       2515303811  Pass   \n",
       "\n",
       "                                                                   timestamp  \n",
       "league             season game                         id                     \n",
       "ENG-Premier League 2223   2023-03-04 Brighton-West Ham 2515069895   0.000000  \n",
       "                                                       2515069905   0.033333  \n",
       "                                                       2515070017   0.100000  \n",
       "                                                       2515070135   0.183333  \n",
       "                                                       2515070175   0.316667  \n",
       "...                                                                      ...  \n",
       "                                                       2515302087  92.216667  \n",
       "                                                       2515302169  92.233333  \n",
       "                                                       2515303185  92.783333  \n",
       "                                                       2515307891  92.833333  \n",
       "                                                       2515303811  93.116667  \n",
       "\n",
       "[1170 rows x 6 columns]"
      ]
     },
     "execution_count": 97,
     "metadata": {},
     "output_type": "execute_result"
    }
   ],
   "source": [
    "xtdf"
   ]
  },
  {
   "cell_type": "code",
   "execution_count": 98,
   "metadata": {},
   "outputs": [],
   "source": [
    "from copy import deepcopy"
   ]
  },
  {
   "cell_type": "code",
   "execution_count": 99,
   "metadata": {},
   "outputs": [],
   "source": [
    "xT_data = deepcopy(xtdf)"
   ]
  },
  {
   "cell_type": "code",
   "execution_count": 100,
   "metadata": {},
   "outputs": [],
   "source": [
    "xT_data['xT_clipped'] = np.clip(xT_data['xT'], 0, 0.1)"
   ]
  },
  {
   "cell_type": "code",
   "execution_count": 106,
   "metadata": {},
   "outputs": [
    {
     "data": {
      "text/html": [
       "<div>\n",
       "<style scoped>\n",
       "    .dataframe tbody tr th:only-of-type {\n",
       "        vertical-align: middle;\n",
       "    }\n",
       "\n",
       "    .dataframe tbody tr th {\n",
       "        vertical-align: top;\n",
       "    }\n",
       "\n",
       "    .dataframe thead th {\n",
       "        text-align: right;\n",
       "    }\n",
       "</style>\n",
       "<table border=\"1\" class=\"dataframe\">\n",
       "  <thead>\n",
       "    <tr style=\"text-align: right;\">\n",
       "      <th></th>\n",
       "      <th>team</th>\n",
       "      <th>minute</th>\n",
       "      <th>xT_clipped</th>\n",
       "    </tr>\n",
       "  </thead>\n",
       "  <tbody>\n",
       "    <tr>\n",
       "      <th>0</th>\n",
       "      <td>Brighton</td>\n",
       "      <td>0</td>\n",
       "      <td>0.002154</td>\n",
       "    </tr>\n",
       "    <tr>\n",
       "      <th>1</th>\n",
       "      <td>Brighton</td>\n",
       "      <td>1</td>\n",
       "      <td>0.005318</td>\n",
       "    </tr>\n",
       "    <tr>\n",
       "      <th>2</th>\n",
       "      <td>Brighton</td>\n",
       "      <td>2</td>\n",
       "      <td>0.003041</td>\n",
       "    </tr>\n",
       "    <tr>\n",
       "      <th>3</th>\n",
       "      <td>Brighton</td>\n",
       "      <td>3</td>\n",
       "      <td>0.002477</td>\n",
       "    </tr>\n",
       "    <tr>\n",
       "      <th>4</th>\n",
       "      <td>Brighton</td>\n",
       "      <td>4</td>\n",
       "      <td>0.004722</td>\n",
       "    </tr>\n",
       "    <tr>\n",
       "      <th>...</th>\n",
       "      <td>...</td>\n",
       "      <td>...</td>\n",
       "      <td>...</td>\n",
       "    </tr>\n",
       "    <tr>\n",
       "      <th>153</th>\n",
       "      <td>West Ham</td>\n",
       "      <td>87</td>\n",
       "      <td>0.000219</td>\n",
       "    </tr>\n",
       "    <tr>\n",
       "      <th>154</th>\n",
       "      <td>West Ham</td>\n",
       "      <td>89</td>\n",
       "      <td>0.003741</td>\n",
       "    </tr>\n",
       "    <tr>\n",
       "      <th>155</th>\n",
       "      <td>West Ham</td>\n",
       "      <td>90</td>\n",
       "      <td>0.003394</td>\n",
       "    </tr>\n",
       "    <tr>\n",
       "      <th>156</th>\n",
       "      <td>West Ham</td>\n",
       "      <td>91</td>\n",
       "      <td>0.001587</td>\n",
       "    </tr>\n",
       "    <tr>\n",
       "      <th>157</th>\n",
       "      <td>West Ham</td>\n",
       "      <td>92</td>\n",
       "      <td>0.000000</td>\n",
       "    </tr>\n",
       "  </tbody>\n",
       "</table>\n",
       "<p>158 rows × 3 columns</p>\n",
       "</div>"
      ],
      "text/plain": [
       "         team  minute  xT_clipped\n",
       "0    Brighton       0    0.002154\n",
       "1    Brighton       1    0.005318\n",
       "2    Brighton       2    0.003041\n",
       "3    Brighton       3    0.002477\n",
       "4    Brighton       4    0.004722\n",
       "..        ...     ...         ...\n",
       "153  West Ham      87    0.000219\n",
       "154  West Ham      89    0.003741\n",
       "155  West Ham      90    0.003394\n",
       "156  West Ham      91    0.001587\n",
       "157  West Ham      92    0.000000\n",
       "\n",
       "[158 rows x 3 columns]"
      ]
     },
     "execution_count": 106,
     "metadata": {},
     "output_type": "execute_result"
    }
   ],
   "source": [
    "max_xT_per_minute = xT_data.groupby(['team', 'minute'])['xT_clipped'].max().reset_index()\n",
    "max_xT_per_minute"
   ]
  },
  {
   "cell_type": "code",
   "execution_count": 119,
   "metadata": {},
   "outputs": [],
   "source": [
    "minutes = sorted(xT_data['minute'].unique())\n",
    "\n",
    "# Initialize dictionaries to store weighted xT sums and momentum values\n",
    "weighted_xT_sum = {team: [] for team in max_xT_per_minute['team'].unique()}\n",
    "momentum = []"
   ]
  },
  {
   "cell_type": "code",
   "execution_count": 120,
   "metadata": {},
   "outputs": [],
   "source": [
    "window_size = 4\n",
    "decay_rate = 0.25\n",
    "\n",
    "for i, current_minute in enumerate(minutes):\n",
    "    for team in weighted_xT_sum:\n",
    "        # Get the xT values for the most recent window_size minutes for this team\n",
    "        recent_xT_values = max_xT_per_minute[(max_xT_per_minute['team'] == team) & \n",
    "                                                (max_xT_per_minute['minute'] <= current_minute) & \n",
    "                                                (max_xT_per_minute['minute'] > current_minute - window_size)]\n",
    "        \n",
    "        # Calculate the time decay weights (most recent minutes have more weight)\n",
    "        weights = np.exp(-decay_rate * (current_minute - recent_xT_values['minute'].values))\n",
    "        \n",
    "        # Calculate the weighted sum of xT values\n",
    "        weighted_sum = np.sum(weights * recent_xT_values['xT_clipped'].values)\n",
    "        \n",
    "        # Append the weighted sum to the corresponding team's list\n",
    "        weighted_xT_sum[team].append(weighted_sum)\n",
    "\n",
    "    # Calculate the momentum for the current minute as the difference between the two teams' weighted xT sums\n",
    "    momentum.append(weighted_xT_sum['Brighton'][-1] - weighted_xT_sum['West Ham'][-1])"
   ]
  },
  {
   "cell_type": "code",
   "execution_count": 123,
   "metadata": {},
   "outputs": [],
   "source": [
    "momentum_df = pd.DataFrame({\n",
    "    'minute': minutes,\n",
    "    'momentum': momentum\n",
    "})"
   ]
  },
  {
   "cell_type": "code",
   "execution_count": 126,
   "metadata": {},
   "outputs": [],
   "source": [
    "from scipy.ndimage import gaussian_filter1d\n",
    "\n",
    "# Function to smooth momentum data using moving average\n",
    "def smooth_momentum_moving_average(momentum_df, window_size=3):\n",
    "    momentum_df['smoothed_momentum'] = momentum_df['momentum'].rolling(window=window_size, center=True).mean()\n",
    "    return momentum_df\n",
    "\n",
    "# Function to smooth momentum data using Gaussian filter\n",
    "def smooth_momentum_gaussian(momentum_df, sigma=1):\n",
    "    momentum_df['smoothed_momentum'] = gaussian_filter1d(momentum_df['momentum'], sigma=sigma)\n",
    "    return momentum_df"
   ]
  },
  {
   "cell_type": "code",
   "execution_count": 182,
   "metadata": {},
   "outputs": [],
   "source": [
    "def plot_momentum(momentum_df, smoothed=False, smoothing_method='gaussian', **kwargs):\n",
    "    fig, ax = plt.subplots(figsize=(12, 6))\n",
    "    fig.set_facecolor('#0e1117')\n",
    "    # ax.plot(momentum_df['minute'], momentum_df['momentum'], label='Raw Momentum', alpha=0.5, color='gray')\n",
    "    ax.set_facecolor('#0e1117')\n",
    "\n",
    "    if smoothed:\n",
    "        if smoothing_method == 'moving_average':\n",
    "            smoothed_df = smooth_momentum_moving_average(momentum_df, window_size=kwargs.get('window_size', 3))\n",
    "        elif smoothing_method == 'gaussian':\n",
    "            smoothed_df = smooth_momentum_gaussian(momentum_df, sigma=kwargs.get('sigma', 1))\n",
    "        ax.plot(smoothed_df['minute'], smoothed_df['smoothed_momentum'], label='Smoothed Momentum', color='black')\n",
    "\n",
    "    ax.fill_between(smoothed_df['minute'], smoothed_df['smoothed_momentum'], where=(smoothed_df['smoothed_momentum'] > 0), color='blue', alpha=0.5)\n",
    "    ax.fill_between(smoothed_df['minute'], smoothed_df['smoothed_momentum'], where=(smoothed_df['smoothed_momentum'] < 0), color='red', alpha=0.5)   \n",
    "    \n",
    "    ax.axhline(0, color='white', linestyle='--', linewidth=0.5)\n",
    "    ax.set_xlabel('Minute', color='white', fontsize=15, fontweight='bold', fontfamily='Monospace')\n",
    "    ax.set_ylabel('Momentum', color='white', fontsize=15, fontweight='bold', fontfamily='Monospace')\n",
    "    ax.set_title('Match xT Momentum', color='white', fontsize=20, fontweight='bold', fontfamily='Monospace', pad=-5)\n",
    "    ax.tick_params(axis='x', colors='white')\n",
    "    ax.tick_params(axis='y', colors='white')\n",
    "    for spine in ['top', 'right', 'bottom']:\n",
    "        ax.spines[spine].set_visible(False)\n",
    "    ax.margins(x=0)\n",
    "    ax.set_xticks([0,15,30,45,60,75,90])\n",
    "    # plt.legend()\n",
    "    plt.show()"
   ]
  },
  {
   "cell_type": "code",
   "execution_count": 183,
   "metadata": {},
   "outputs": [
    {
     "data": {
      "image/png": "[encoded data removed]",
      "text/plain": [
       "<Figure size 1200x600 with 1 Axes>"
      ]
     },
     "metadata": {},
     "output_type": "display_data"
    }
   ],
   "source": [
    "plot_momentum(momentum_df, smoothed=True, smoothing_method='gaussian', sigma=0.7)"
   ]
  }
 ],
 "metadata": {
  "kernelspec": {
   "display_name": "Python 3",
   "language": "python",
   "name": "python3"
  },
  "language_info": {
   "codemirror_mode": {
    "name": "ipython",
    "version": 3
   },
   "file_extension": ".py",
   "mimetype": "text/x-python",
   "name": "python",
   "nbconvert_exporter": "python",
   "pygments_lexer": "ipython3",
   "version": "3.10.7"
  }
 },
 "nbformat": 4,
 "nbformat_minor": 2
}
